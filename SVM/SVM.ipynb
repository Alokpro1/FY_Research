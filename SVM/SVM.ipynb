{
 "cells": [
  {
   "cell_type": "markdown",
   "metadata": {},
   "source": [
    "# ALL IMPORT STATEMENT"
   ]
  },
  {
   "cell_type": "code",
   "execution_count": 4,
   "metadata": {},
   "outputs": [],
   "source": [
    "import warnings\n",
    "warnings.filterwarnings(\"ignore\")\n",
    "\n",
    "\n",
    "\n",
    "import numpy as np\n",
    "import pandas as pd\n",
    "from numpy import linalg\n",
    "from sklearn.model_selection import train_test_split\n",
    "from sklearn.preprocessing import StandardScaler\n",
    "import scipy.io as spio\n",
    "import matplotlib.pyplot as plt\n"
   ]
  },
  {
   "cell_type": "markdown",
   "metadata": {},
   "source": [
    "# FUNCTION TO CALCULATE CONFUSING MATRIX, ACCURACY AND FM"
   ]
  },
  {
   "cell_type": "code",
   "execution_count": 5,
   "metadata": {},
   "outputs": [],
   "source": [
    "def confusionMatrix(y_actual, y_predicted):\n",
    "    tp = 0\n",
    "    tn = 0\n",
    "    fp = 0\n",
    "    fn = 0\n",
    "    \n",
    "    for i in range(len(y_actual)):\n",
    "        if y_actual[i] > 0:\n",
    "            if y_actual[i] == y_predicted[i]:\n",
    "                tp = tp + 1\n",
    "            else:\n",
    "                fn = fn + 1\n",
    "        if y_actual[i] < 1:\n",
    "            if y_actual[i] == y_predicted[i]:\n",
    "                tn = tn + 1\n",
    "            else:\n",
    "                fp = fp + 1\n",
    "                \n",
    "    cm = [[tn, fp], [fn, tp]]\n",
    "    accuracy = (tp+tn)/(tp+tn+fp+fn)\n",
    "    sens = tp/(tp+fn)\n",
    "    prec = tp/(tp+fp)\n",
    "    fm = (2*prec*sens)/(prec+sens)\n",
    "    return cm, accuracy, fm"
   ]
  },
  {
   "cell_type": "markdown",
   "metadata": {},
   "source": [
    "# FUNCTION FOR EACH SVM KERNEL"
   ]
  },
  {
   "cell_type": "code",
   "execution_count": 6,
   "metadata": {},
   "outputs": [],
   "source": [
    "def linear_kernel(x1, x2):\n",
    "    return np.dot(x1, x2)\n",
    "    \n",
    "def polynomial_kernel(x, y, p=3):\n",
    "    return (1 + np.dot(x, y)) ** p\n",
    "\n",
    "def gaussian_kernel(x, y, sigma=5.0):\n",
    "    numerator = np.linalg.norm(x-y)**2\n",
    "    denominator = 2 * (sigma ** 2)\n",
    "    return np.exp(-numerator / denominator)"
   ]
  },
  {
   "cell_type": "markdown",
   "metadata": {},
   "source": [
    "# SVM CLASS WITH TRAIN AND PREDICT FUNCTION"
   ]
  },
  {
   "cell_type": "code",
   "execution_count": 7,
   "metadata": {},
   "outputs": [],
   "source": [
    "class SVM(object):\n",
    "\n",
    "    def __init__(self, kernel=linear_kernel, tol=1e-3, C=0.1,\n",
    "                 max_passes=5, sigma=0.1):\n",
    "\n",
    "        self.kernel = kernel\n",
    "        self.tol = tol\n",
    "        self.C = C\n",
    "        self.max_passes = max_passes\n",
    "        self.sigma = sigma\n",
    "        self.model = dict()\n",
    "\n",
    "    def __repr__(self):\n",
    "        return (f\"{self.__class__.__name__}(\"\n",
    "                f\"kernel={self.kernel.__name__}, \"\n",
    "                f\"tol={self.tol}, \"\n",
    "                f\"C={self.C}, \"\n",
    "                f\"max_passes={self.max_passes}, \"\n",
    "                f\"sigma={self.sigma}\"\n",
    "                \")\")\n",
    "\n",
    "    def svmTrain(self, X, Y):\n",
    "        # Data parameters\n",
    "        m = X.shape[0]\n",
    "\n",
    "        # Map 0 to -1\n",
    "        Y = np.where(Y == 0, -1, 1)\n",
    "\n",
    "        # Variables\n",
    "        alphas = np.zeros((m, 1), dtype=float)\n",
    "        b = 0.0\n",
    "        E = np.zeros((m, 1), dtype=float)\n",
    "        passes = 0\n",
    "\n",
    "        # Pre-compute the kernel matrix\n",
    "        if self.kernel.__name__ == 'linear_kernel':\n",
    "            print(f'Pre-computing {self.kernel.__name__} kernel matrix')\n",
    "            K = X @ X.T\n",
    "\n",
    "        elif self.kernel.__name__ == 'gaussian_kernel':\n",
    "            print(f'Pre-computing {self.kernel.__name__} kernel matrix')\n",
    "            X2 = np.sum(np.power(X, 2), axis=1).reshape(-1, 1)\n",
    "            K = X2 + (X2.T - (2 * (X @ X.T)))\n",
    "            K = np.power(self.kernel(1, 0, self.sigma), K)\n",
    "\n",
    "        else:\n",
    "            # Pre-compute the Kernel Matrix\n",
    "            # The following can be slow due to lack of vectorization\n",
    "            print(f'Pre-computing {self.kernel.__name__} kernel matrix')\n",
    "            K = np.zeros((m, m))\n",
    "\n",
    "            for i in range(m):\n",
    "                for j in range(m):\n",
    "                    x1 = np.transpose(X[i, :])\n",
    "                    x2 = np.transpose(X[j, :])\n",
    "                    K[i, j] = self.kernel(x1, x2)\n",
    "                    K[i, j] = K[j, i]\n",
    "\n",
    "        print('Training...')\n",
    "        print('This may take 1 to 2 minutes')\n",
    "\n",
    "        while passes < self.max_passes:\n",
    "            num_changed_alphas = 0\n",
    "\n",
    "            for i in range(m):\n",
    "\n",
    "                E[i] = b + np.sum(alphas * Y * K[:, i].reshape(-1, 1)) - Y[i]\n",
    "\n",
    "                if (Y[i] * E[i] < -self.tol and alphas[i] < self.C) or (Y[i] * E[i] > self.tol and alphas[i] > 0):\n",
    "                    j = np.random.randint(0, m)\n",
    "                    while j == i:\n",
    "                        # make sure i is not equal to j\n",
    "                        j = np.random.randint(0, m)\n",
    "\n",
    "                    E[j] = b + np.sum(alphas * Y *\n",
    "                                      K[:, j].reshape(-1, 1)) - Y[j]\n",
    "\n",
    "                    # Save old alphas\n",
    "                    alpha_i_old = alphas[i, 0]\n",
    "                    alpha_j_old = alphas[j, 0]\n",
    "\n",
    "                    # Compute L and H by (10) or (11)\n",
    "                    if Y[i] == Y[j]:\n",
    "                        L = max(0, alphas[j] + alphas[i] - self.C)\n",
    "                        H = min(self.C, alphas[j] + alphas[i])\n",
    "                    else:\n",
    "                        L = max(0, alphas[j] - alphas[i])\n",
    "                        H = min(self.C, self.C + alphas[j] - alphas[i])\n",
    "                    if L == H:\n",
    "                        # continue to next i\n",
    "                        continue\n",
    "\n",
    "                    # compute eta by (14)\n",
    "                    eta = 2 * K[i, j] - K[i, i] - K[j, j]\n",
    "                    if eta >= 0:\n",
    "                        # continue to next i\n",
    "                        continue\n",
    "\n",
    "                    # compute and clip new value for alpha j using (12) and (15)\n",
    "                    alphas[j] = alphas[j] - (Y[j] * (E[i] - E[j])) / eta\n",
    "\n",
    "                    # Clip\n",
    "                    alphas[j] = min(H, alphas[j])\n",
    "                    alphas[j] = max(L, alphas[j])\n",
    "\n",
    "                    # Check if change in alpha is significant\n",
    "                    if np.abs(alphas[j] - alpha_j_old) < self.tol:\n",
    "                        # continue to the next i\n",
    "                        # replace anyway\n",
    "                        alphas[j] = alpha_j_old\n",
    "                        continue\n",
    "\n",
    "                    # Determine value for alpha i using (16)\n",
    "                    alphas[i] = alphas[i] + Y[i] * \\\n",
    "                        Y[j] * (alpha_j_old - alphas[j])\n",
    "\n",
    "                    # Compute b1 and b2 using (17) and (18) respectively.\n",
    "                    b1 = b - E[i] - Y[i] * (alphas[i] - alpha_i_old) * \\\n",
    "                        K[i, j] - Y[j] * (alphas[j] - alpha_j_old) * K[i, j]\n",
    "\n",
    "                    b2 = b - E[j] - Y[i] * (alphas[i] - alpha_i_old) * \\\n",
    "                        K[i, j] - Y[j] * (alphas[j] - alpha_j_old) * K[j, j]\n",
    "\n",
    "                    # Compute b by (19).\n",
    "                    if 0 < alphas[i] < self.C:\n",
    "                        b = b1\n",
    "                    elif 0 < alphas[j] < self.C:\n",
    "                        b = b2\n",
    "                    else:\n",
    "                        b = (b1 + b2) / 2\n",
    "                    num_changed_alphas = num_changed_alphas + 1\n",
    "\n",
    "            if num_changed_alphas == 0:\n",
    "                passes = passes + 1\n",
    "            else:\n",
    "                passes = 0\n",
    "\n",
    "            print('.', end='', flush=True)\n",
    "\n",
    "        print('\\n DONE! ')\n",
    "\n",
    "        # Save the model\n",
    "        idx = alphas > 0\n",
    "        self.model['X'] = X[idx.reshape(1, -1)[0], :]\n",
    "        self.model['y'] = Y[idx.reshape(1, -1)[0]]\n",
    "        self.model['kernelFunction'] = self.kernel\n",
    "        self.model['b'] = b\n",
    "        self.model['alphas'] = alphas[idx.reshape(1, -1)[0]]\n",
    "        self.model['w'] = np.transpose(np.matmul(np.transpose(alphas * Y), X))\n",
    "        # return model\n",
    "\n",
    "    def svmPredict(self, X):\n",
    "        if X.shape[1] == 1:\n",
    "            X = np.transpose(X)\n",
    "\n",
    "        # Dataset\n",
    "        m = X.shape[0]\n",
    "        p = np.zeros((m, 1))\n",
    "        pred = np.zeros((m, 1))\n",
    "\n",
    "        if self.model['kernelFunction'].__name__ == 'linear_kernel':\n",
    "            p = X.dot(self.model['w']) + self.model['b']\n",
    "\n",
    "        elif self.model['kernelFunction'].__name__ == 'gaussian_kernel':\n",
    "            # Vectorized RBF Kernel\n",
    "            # This is equivalent to computing the kernel\n",
    "            # on every pair of examples\n",
    "            X1 = np.sum(np.power(X, 2), axis=1).reshape(-1, 1)\n",
    "            X2 = np.transpose(np.sum(np.power(self.model['X'], 2), axis=1))\n",
    "            K = X1 + (X2.T - (2 * (X @ (self.model['X']).T)))\n",
    "            K = np.power(self.model['kernelFunction'](1, 0, self.sigma), K)\n",
    "            K = np.transpose(self.model['y']) * K\n",
    "            K = np.transpose(self.model['alphas']) * K\n",
    "            p = np.sum(K, axis=1)\n",
    "\n",
    "        else:\n",
    "            for i in range(m):\n",
    "                prediction = 0\n",
    "                for j in range(self.model['X'].shape[0]):\n",
    "                    prediction = prediction + self.model['alphas'][j] \\\n",
    "                        * self.model['y'][j] * \\\n",
    "                        self.model['kernelFunction'](np.transpose(\n",
    "                            X[i, :]), np.transpose(self.model['X'][j, :]))\n",
    "\n",
    "                p[i] = prediction + self.model['b']\n",
    "\n",
    "        # Convert predictions into 0 and 1\n",
    "        pred[p >= 0] = 1\n",
    "        return pred\n",
    "\n",
    "    def predict(self, X):\n",
    "        if X.shape[1] == 1:\n",
    "            X = np.transpose(X)\n",
    "\n",
    "        # Dataset\n",
    "        m = X.shape[0]\n",
    "        p = np.zeros((m, 1))\n",
    "        pred = np.zeros((m, 1))\n",
    "\n",
    "        if self.model['kernelFunction'].__name__ == 'linear_kernel':\n",
    "            p = X.dot(self.model['w']) + self.model['b']\n",
    "\n",
    "        elif self.model['kernelFunction'].__name__ == 'gaussian_kernel':\n",
    "            # Vectorized RBF Kernel\n",
    "            # This is equivalent to computing the kernel\n",
    "            # on every pair of examples\n",
    "            X1 = np.sum(np.power(X, 2), axis=1).reshape(-1, 1)\n",
    "            X2 = np.transpose(np.sum(np.power(self.model['X'], 2), axis=1))\n",
    "            K = X1 + (X2.T - (2 * (X @ (self.model['X']).T)))\n",
    "            K = np.power(self.model['kernelFunction'](1, 0, self.sigma), K)\n",
    "            K = np.transpose(self.model['y']) * K\n",
    "            K = np.transpose(self.model['alphas']) * K\n",
    "            p = np.sum(K, axis=1)\n",
    "\n",
    "        else:\n",
    "            for i in range(m):\n",
    "                prediction = 0\n",
    "                for j in range(self.model['X'].shape[0]):\n",
    "                    prediction = prediction + self.model['alphas'][j] \\\n",
    "                        * self.model['y'][j] * \\\n",
    "                        self.model['kernelFunction'](np.transpose(\n",
    "                            X[i, :]), np.transpose(self.model['X'][j, :]))\n",
    "\n",
    "                p[i] = prediction + self.model['b']\n",
    "\n",
    "        # Convert predictions into 0 and 1\n",
    "        pred[p >= 0] = 1\n",
    "        return pred"
   ]
  },
  {
   "cell_type": "code",
   "execution_count": 8,
   "metadata": {},
   "outputs": [],
   "source": [
    "def feature_engineering(data):\n",
    "    data_new = data.copy() \n",
    "    data_new[\"type1\"] = np.nan\n",
    "\n",
    "\n",
    "    data_new.loc[data.nameOrig.str.contains('C') & data.nameDest.str.contains('C'),\"type1\"] = \"CC\" \n",
    "    data_new.loc[data.nameOrig.str.contains('C') & data.nameDest.str.contains('M'),\"type1\"] = \"CM\"\n",
    "    data_new.loc[data.nameOrig.str.contains('M') & data.nameDest.str.contains('C'),\"type1\"] = \"MC\"\n",
    "    data_new.loc[data.nameOrig.str.contains('M') & data.nameDest.str.contains('M'),\"type1\"] = \"MM\"\n",
    "    \n",
    "    data_new = data_new.drop('type1',1)\n",
    "    \n",
    "    data_new = data_new[(data_new[\"type\"] == \"CASH_OUT\") | (data_new[\"type\"] == \"TRANSFER\")]\n",
    "    \n",
    "    data_new[\"errorBalanceOrg\"] = data_new.newbalanceOrig + data_new.amount - data_new.oldbalanceOrg\n",
    "    data_new[\"errorBalanceDest\"] = data_new.oldbalanceDest + data_new.amount - data_new.newbalanceDest\n",
    "    \n",
    "    # getting rid of nameOrig and nameDest column.\n",
    "    names = [\"nameOrig\",\"nameDest\"]\n",
    "    data_new = data_new.drop(names,1)\n",
    "    \n",
    "    # dropping isFlaggedFraud column from the fraud,valid, and new_data datasets\n",
    "    data_new = data_new.drop(\"isFlaggedFraud\",1)\n",
    "    \n",
    "    dataset1 = data_new.copy()\n",
    "\n",
    "\n",
    "    # adding feature HourOfDay to Dataset1 \n",
    "    dataset1[\"HourOfDay\"] = np.nan \n",
    "    dataset1.HourOfDay = data_new.step % 24\n",
    "    \n",
    "    # finalizing dataset\n",
    "    dataset = dataset1.copy() # unchanged dataset1\n",
    "    \n",
    "    # getting one-hot encoding of the 'type' variable\n",
    "    dataset = pd.get_dummies(dataset,prefix=['type'])\n",
    "    \n",
    "    return dataset\n"
   ]
  },
  {
   "cell_type": "markdown",
   "metadata": {},
   "source": [
    "# TESTING MY SVM"
   ]
  },
  {
   "cell_type": "code",
   "execution_count": 9,
   "metadata": {},
   "outputs": [],
   "source": [
    "from pathlib import Path"
   ]
  },
  {
   "cell_type": "code",
   "execution_count": 10,
   "metadata": {},
   "outputs": [
    {
     "name": "stdout",
     "output_type": "stream",
     "text": [
      "reading dataset...\n"
     ]
    }
   ],
   "source": [
    "print(\"reading dataset...\")\n",
    "# read data in pandas (pd) data frame\n",
    "data = pd.read_csv(\"../input/PS_20174392719_1491204439457_log.csv\")"
   ]
  },
  {
   "cell_type": "code",
   "execution_count": 11,
   "metadata": {},
   "outputs": [
    {
     "name": "stdout",
     "output_type": "stream",
     "text": [
      "applying feature engineering...\n"
     ]
    }
   ],
   "source": [
    "print(\"applying feature engineering...\")\n",
    "dataset=feature_engineering(data)\n",
    "# put features & outputs in different data frames\n",
    "Y = dataset.loc[:, 'isFraud']\n",
    "X = dataset.drop(\"isFraud\",1)"
   ]
  },
  {
   "cell_type": "code",
   "execution_count": 13,
   "metadata": {},
   "outputs": [
    {
     "name": "stdout",
     "output_type": "stream",
     "text": [
      "splitting dataset into train and test sets...\n"
     ]
    }
   ],
   "source": [
    "print(\"splitting dataset into train and test sets...\")\n",
    "X_train, X_test, y_train, y_test = train_test_split(X, Y, test_size=0.2, random_state=42)"
   ]
  },
  {
   "cell_type": "code",
   "execution_count": 14,
   "metadata": {},
   "outputs": [
    {
     "data": {
      "text/plain": [
       "(2216327, 11)"
      ]
     },
     "execution_count": 14,
     "metadata": {},
     "output_type": "execute_result"
    }
   ],
   "source": [
    "X_train.shape"
   ]
  },
  {
   "cell_type": "code",
   "execution_count": 15,
   "metadata": {},
   "outputs": [
    {
     "data": {
      "text/plain": [
       "(2216327,)"
      ]
     },
     "execution_count": 15,
     "metadata": {},
     "output_type": "execute_result"
    }
   ],
   "source": [
    "y_train.shape"
   ]
  },
  {
   "cell_type": "code",
   "execution_count": 16,
   "metadata": {
    "tags": []
   },
   "outputs": [
    {
     "name": "stdout",
     "output_type": "stream",
     "text": [
      "CPU times: user 0 ns, sys: 0 ns, total: 0 ns\n",
      "Wall time: 22.9 µs\n"
     ]
    },
    {
     "data": {
      "text/plain": [
       "SVM(kernel=linear_kernel, tol=0.001, C=0.1, max_passes=5, sigma=0.1)"
      ]
     },
     "execution_count": 16,
     "metadata": {},
     "output_type": "execute_result"
    }
   ],
   "source": [
    "%%time\n",
    "model = SVM()\n",
    "model"
   ]
  },
  {
   "cell_type": "code",
   "execution_count": 17,
   "metadata": {
    "tags": []
   },
   "outputs": [
    {
     "name": "stdout",
     "output_type": "stream",
     "text": [
      "Pre-computing linear_kernel kernel matrix\n"
     ]
    },
    {
     "ename": "MemoryError",
     "evalue": "Unable to allocate 35.7 TiB for an array with shape (2216327, 2216327) and data type float64",
     "output_type": "error",
     "traceback": [
      "\u001b[0;31m---------------------------------------------------------------------------\u001b[0m",
      "\u001b[0;31mMemoryError\u001b[0m                               Traceback (most recent call last)",
      "\u001b[0;32m<timed eval>\u001b[0m in \u001b[0;36m<module>\u001b[0;34m\u001b[0m\n",
      "\u001b[0;32m<ipython-input-7-8d1bba828b23>\u001b[0m in \u001b[0;36msvmTrain\u001b[0;34m(self, X, Y)\u001b[0m\n\u001b[1;32m     36\u001b[0m         \u001b[0;32mif\u001b[0m \u001b[0mself\u001b[0m\u001b[0;34m.\u001b[0m\u001b[0mkernel\u001b[0m\u001b[0;34m.\u001b[0m\u001b[0m__name__\u001b[0m \u001b[0;34m==\u001b[0m \u001b[0;34m'linear_kernel'\u001b[0m\u001b[0;34m:\u001b[0m\u001b[0;34m\u001b[0m\u001b[0;34m\u001b[0m\u001b[0m\n\u001b[1;32m     37\u001b[0m             \u001b[0mprint\u001b[0m\u001b[0;34m(\u001b[0m\u001b[0;34mf'Pre-computing {self.kernel.__name__} kernel matrix'\u001b[0m\u001b[0;34m)\u001b[0m\u001b[0;34m\u001b[0m\u001b[0;34m\u001b[0m\u001b[0m\n\u001b[0;32m---> 38\u001b[0;31m             \u001b[0mK\u001b[0m \u001b[0;34m=\u001b[0m \u001b[0mX\u001b[0m \u001b[0;34m@\u001b[0m \u001b[0mX\u001b[0m\u001b[0;34m.\u001b[0m\u001b[0mT\u001b[0m\u001b[0;34m\u001b[0m\u001b[0;34m\u001b[0m\u001b[0m\n\u001b[0m\u001b[1;32m     39\u001b[0m \u001b[0;34m\u001b[0m\u001b[0m\n\u001b[1;32m     40\u001b[0m         \u001b[0;32melif\u001b[0m \u001b[0mself\u001b[0m\u001b[0;34m.\u001b[0m\u001b[0mkernel\u001b[0m\u001b[0;34m.\u001b[0m\u001b[0m__name__\u001b[0m \u001b[0;34m==\u001b[0m \u001b[0;34m'gaussian_kernel'\u001b[0m\u001b[0;34m:\u001b[0m\u001b[0;34m\u001b[0m\u001b[0;34m\u001b[0m\u001b[0m\n",
      "\u001b[0;32m/opt/conda/lib/python3.7/site-packages/pandas/core/frame.py\u001b[0m in \u001b[0;36m__matmul__\u001b[0;34m(self, other)\u001b[0m\n\u001b[1;32m   1217\u001b[0m         \u001b[0mMatrix\u001b[0m \u001b[0mmultiplication\u001b[0m \u001b[0musing\u001b[0m \u001b[0mbinary\u001b[0m\u001b[0;31m \u001b[0m\u001b[0;31m`\u001b[0m\u001b[0;34m@\u001b[0m\u001b[0;31m`\u001b[0m \u001b[0moperator\u001b[0m \u001b[0;32min\u001b[0m \u001b[0mPython\u001b[0m\u001b[0;34m>=\u001b[0m\u001b[0;36m3.5\u001b[0m\u001b[0;34m.\u001b[0m\u001b[0;34m\u001b[0m\u001b[0;34m\u001b[0m\u001b[0m\n\u001b[1;32m   1218\u001b[0m         \"\"\"\n\u001b[0;32m-> 1219\u001b[0;31m         \u001b[0;32mreturn\u001b[0m \u001b[0mself\u001b[0m\u001b[0;34m.\u001b[0m\u001b[0mdot\u001b[0m\u001b[0;34m(\u001b[0m\u001b[0mother\u001b[0m\u001b[0;34m)\u001b[0m\u001b[0;34m\u001b[0m\u001b[0;34m\u001b[0m\u001b[0m\n\u001b[0m\u001b[1;32m   1220\u001b[0m \u001b[0;34m\u001b[0m\u001b[0m\n\u001b[1;32m   1221\u001b[0m     \u001b[0;32mdef\u001b[0m \u001b[0m__rmatmul__\u001b[0m\u001b[0;34m(\u001b[0m\u001b[0mself\u001b[0m\u001b[0;34m,\u001b[0m \u001b[0mother\u001b[0m\u001b[0;34m)\u001b[0m\u001b[0;34m:\u001b[0m\u001b[0;34m\u001b[0m\u001b[0;34m\u001b[0m\u001b[0m\n",
      "\u001b[0;32m/opt/conda/lib/python3.7/site-packages/pandas/core/frame.py\u001b[0m in \u001b[0;36mdot\u001b[0;34m(self, other)\u001b[0m\n\u001b[1;32m   1200\u001b[0m         \u001b[0;32mif\u001b[0m \u001b[0misinstance\u001b[0m\u001b[0;34m(\u001b[0m\u001b[0mother\u001b[0m\u001b[0;34m,\u001b[0m \u001b[0mDataFrame\u001b[0m\u001b[0;34m)\u001b[0m\u001b[0;34m:\u001b[0m\u001b[0;34m\u001b[0m\u001b[0;34m\u001b[0m\u001b[0m\n\u001b[1;32m   1201\u001b[0m             return self._constructor(\n\u001b[0;32m-> 1202\u001b[0;31m                 \u001b[0mnp\u001b[0m\u001b[0;34m.\u001b[0m\u001b[0mdot\u001b[0m\u001b[0;34m(\u001b[0m\u001b[0mlvals\u001b[0m\u001b[0;34m,\u001b[0m \u001b[0mrvals\u001b[0m\u001b[0;34m)\u001b[0m\u001b[0;34m,\u001b[0m \u001b[0mindex\u001b[0m\u001b[0;34m=\u001b[0m\u001b[0mleft\u001b[0m\u001b[0;34m.\u001b[0m\u001b[0mindex\u001b[0m\u001b[0;34m,\u001b[0m \u001b[0mcolumns\u001b[0m\u001b[0;34m=\u001b[0m\u001b[0mother\u001b[0m\u001b[0;34m.\u001b[0m\u001b[0mcolumns\u001b[0m\u001b[0;34m\u001b[0m\u001b[0;34m\u001b[0m\u001b[0m\n\u001b[0m\u001b[1;32m   1203\u001b[0m             )\n\u001b[1;32m   1204\u001b[0m         \u001b[0;32melif\u001b[0m \u001b[0misinstance\u001b[0m\u001b[0;34m(\u001b[0m\u001b[0mother\u001b[0m\u001b[0;34m,\u001b[0m \u001b[0mSeries\u001b[0m\u001b[0;34m)\u001b[0m\u001b[0;34m:\u001b[0m\u001b[0;34m\u001b[0m\u001b[0;34m\u001b[0m\u001b[0m\n",
      "\u001b[0;32m<__array_function__ internals>\u001b[0m in \u001b[0;36mdot\u001b[0;34m(*args, **kwargs)\u001b[0m\n",
      "\u001b[0;31mMemoryError\u001b[0m: Unable to allocate 35.7 TiB for an array with shape (2216327, 2216327) and data type float64"
     ]
    }
   ],
   "source": [
    "%%time\n",
    "model.svmTrain(X_train, y_train)"
   ]
  },
  {
   "cell_type": "code",
   "execution_count": 44,
   "metadata": {},
   "outputs": [],
   "source": [
    "y_predicted = model.predict(X_train)"
   ]
  },
  {
   "cell_type": "code",
   "execution_count": 45,
   "metadata": {},
   "outputs": [],
   "source": [
    "cm, acc, fm = confusionMatrix(y_train, y_predicted)"
   ]
  },
  {
   "cell_type": "code",
   "execution_count": 46,
   "metadata": {},
   "outputs": [
    {
     "data": {
      "text/plain": [
       "(0.99625, 0.9940921622686096)"
      ]
     },
     "execution_count": 46,
     "metadata": {},
     "output_type": "execute_result"
    }
   ],
   "source": [
    "acc, fm"
   ]
  },
  {
   "cell_type": "code",
   "execution_count": 47,
   "metadata": {
    "tags": []
   },
   "outputs": [
    {
     "data": {
      "text/plain": [
       "[[2723, 0], [15, 1262]]"
      ]
     },
     "execution_count": 47,
     "metadata": {},
     "output_type": "execute_result"
    }
   ],
   "source": [
    "cm"
   ]
  },
  {
   "cell_type": "code",
   "execution_count": 48,
   "metadata": {},
   "outputs": [],
   "source": [
    "from sklearn.metrics import confusion_matrix"
   ]
  },
  {
   "cell_type": "code",
   "execution_count": 49,
   "metadata": {
    "tags": []
   },
   "outputs": [
    {
     "data": {
      "text/plain": [
       "array([[2723,    0],\n",
       "       [  15, 1262]], dtype=int64)"
      ]
     },
     "execution_count": 49,
     "metadata": {},
     "output_type": "execute_result"
    }
   ],
   "source": [
    "confusion_matrix(y_train, y_predicted)"
   ]
  },
  {
   "cell_type": "code",
   "execution_count": 50,
   "metadata": {
    "tags": []
   },
   "outputs": [
    {
     "name": "stdout",
     "output_type": "stream",
     "text": [
      "Accuracy -->  0.984\n",
      "Confusion Matrix -->  [[688, 4], [12, 296]]\n"
     ]
    }
   ],
   "source": [
    "y_predicted = model.svmPredict(X_test)\n",
    "cm, acc, fm = confusionMatrix(y_test, y_predicted)\n",
    "print('Accuracy --> ', acc)\n",
    "print('Confusion Matrix --> ', cm)"
   ]
  },
  {
   "cell_type": "code",
   "execution_count": 51,
   "metadata": {},
   "outputs": [
    {
     "data": {
      "text/plain": [
       "array([[688,   4],\n",
       "       [ 12, 296]], dtype=int64)"
      ]
     },
     "execution_count": 51,
     "metadata": {},
     "output_type": "execute_result"
    }
   ],
   "source": [
    "confusion_matrix(y_test, y_predicted)"
   ]
  }
 ],
 "metadata": {
  "environment": {
   "name": "tf2-gpu.2-1.m55",
   "type": "gcloud",
   "uri": "gcr.io/deeplearning-platform-release/tf2-gpu.2-1:m55"
  },
  "kernelspec": {
   "display_name": "Python 3",
   "language": "python",
   "name": "python3"
  },
  "language_info": {
   "codemirror_mode": {
    "name": "ipython",
    "version": 3
   },
   "file_extension": ".py",
   "mimetype": "text/x-python",
   "name": "python",
   "nbconvert_exporter": "python",
   "pygments_lexer": "ipython3",
   "version": "3.7.8"
  }
 },
 "nbformat": 4,
 "nbformat_minor": 4
}
