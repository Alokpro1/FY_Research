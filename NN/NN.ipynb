{
 "cells": [
  {
   "cell_type": "code",
   "execution_count": 54,
   "metadata": {},
   "outputs": [],
   "source": [
    "import numpy as np \n",
    "import pandas as pd \n",
    "import matplotlib.pyplot as plt\n",
    "import seaborn as sns\n",
    "import tensorflow as tf\n",
    "import tensorflow.keras as keras\n",
    "from keras import Sequential\n",
    "from keras.layers import Dense, Dropout\n",
    "from keras.callbacks import EarlyStopping, ModelCheckpoint, LearningRateScheduler\n",
    "\n",
    "from sklearn.preprocessing import StandardScaler\n",
    "from sklearn.model_selection import train_test_split\n",
    "from sklearn.metrics import classification_report,confusion_matrix,accuracy_score, roc_curve, auc,\\\n",
    "precision_score"
   ]
  },
  {
   "cell_type": "code",
   "execution_count": 2,
   "metadata": {},
   "outputs": [],
   "source": [
    "np.random.seed(2)"
   ]
  },
  {
   "cell_type": "code",
   "execution_count": 5,
   "metadata": {},
   "outputs": [],
   "source": [
    "dataset = pd.read_csv('../input/Fraud/backup.csv')"
   ]
  },
  {
   "cell_type": "code",
   "execution_count": 6,
   "metadata": {},
   "outputs": [],
   "source": [
    "dataset = dataset.drop('Unnamed: 0', axis = 1)\n",
    "dataset = pd.get_dummies(dataset,prefix=['type'])"
   ]
  },
  {
   "cell_type": "code",
   "execution_count": 7,
   "metadata": {},
   "outputs": [],
   "source": [
    "X = dataset.drop(\"isFraud\",1)\n",
    "y = dataset.isFraud"
   ]
  },
  {
   "cell_type": "code",
   "execution_count": 9,
   "metadata": {},
   "outputs": [],
   "source": [
    "RandomState = 42\n",
    "\n",
    "\n",
    "X_train, X_test, y_train, y_test = train_test_split(X, y, test_size=0.33, random_state=42)\n",
    "X_train, X_val, y_train, y_val = train_test_split(X_train, y_train, test_size=0.33, random_state=42)"
   ]
  },
  {
   "cell_type": "code",
   "execution_count": 10,
   "metadata": {},
   "outputs": [],
   "source": [
    "scaler = StandardScaler()\n",
    "scaler.fit(X_train)\n",
    "X_train = scaler.transform(X_train)\n",
    "X_test = scaler.transform(X_test)\n",
    "X_val = scaler.transform(X_val)"
   ]
  },
  {
   "cell_type": "code",
   "execution_count": 11,
   "metadata": {},
   "outputs": [
    {
     "data": {
      "text/plain": [
       "<AxesSubplot:>"
      ]
     },
     "execution_count": 11,
     "metadata": {},
     "output_type": "execute_result"
    },
    {
     "data": {
      "image/png": "[encoded data removed]",
      "text/plain": [
       "<Figure size 432x288 with 1 Axes>"
      ]
     },
     "metadata": {
      "needs_background": "light"
     },
     "output_type": "display_data"
    }
   ],
   "source": [
    "dataset.isFraud.hist()"
   ]
  },
  {
   "cell_type": "code",
   "execution_count": 12,
   "metadata": {},
   "outputs": [],
   "source": [
    "n_features = X_train.shape[1]"
   ]
  },
  {
   "cell_type": "code",
   "execution_count": 13,
   "metadata": {},
   "outputs": [
    {
     "name": "stdout",
     "output_type": "stream",
     "text": [
      "Train Size: 1243636\n",
      "Val Size: 612538\n",
      "Test Size: 914235\n",
      "No of Features: 11\n"
     ]
    }
   ],
   "source": [
    "print(\"Train Size: {}\".format(len(X_train)))\n",
    "print(\"Val Size: {}\".format(len(X_val)))\n",
    "print(\"Test Size: {}\".format(len(X_test)))\n",
    "print(\"No of Features: {}\".format(n_features))"
   ]
  },
  {
   "cell_type": "code",
   "execution_count": 40,
   "metadata": {},
   "outputs": [
    {
     "name": "stdout",
     "output_type": "stream",
     "text": [
      "Model: \"sequential_5\"\n",
      "_________________________________________________________________\n",
      "Layer (type)                 Output Shape              Param #   \n",
      "=================================================================\n",
      "dense_21 (Dense)             (None, 16)                192       \n",
      "_________________________________________________________________\n",
      "dense_22 (Dense)             (None, 24)                408       \n",
      "_________________________________________________________________\n",
      "dropout_5 (Dropout)          (None, 24)                0         \n",
      "_________________________________________________________________\n",
      "dense_23 (Dense)             (None, 20)                500       \n",
      "_________________________________________________________________\n",
      "dense_24 (Dense)             (None, 24)                504       \n",
      "_________________________________________________________________\n",
      "dense_25 (Dense)             (None, 1)                 25        \n",
      "=================================================================\n",
      "Total params: 1,629\n",
      "Trainable params: 1,629\n",
      "Non-trainable params: 0\n",
      "_________________________________________________________________\n"
     ]
    }
   ],
   "source": [
    "model = Sequential()\n",
    "model.add(Dense(units=16, input_dim= n_features, activation='relu'))\n",
    "model.add(Dense(units=24, activation='relu'))\n",
    "model.add(Dropout(0.5))\n",
    "model.add(Dense(units=20, activation='relu'))\n",
    "model.add(Dense(units=24, activation='relu'))\n",
    "model.add(Dense(units=1, activation='sigmoid'))\n",
    "model.summary()"
   ]
  },
  {
   "cell_type": "code",
   "execution_count": 58,
   "metadata": {},
   "outputs": [],
   "source": [
    "model.compile(optimizer='adam', loss='binary_crossentropy', metrics=['accuracy'])"
   ]
  },
  {
   "cell_type": "code",
   "execution_count": 59,
   "metadata": {},
   "outputs": [
    {
     "name": "stdout",
     "output_type": "stream",
     "text": [
      "Train on 1243636 samples, validate on 612538 samples\n",
      "Epoch 1/10\n",
      "1243636/1243636 [==============================] - 20s 16us/step - loss: 0.0042 - accuracy: 0.9989 - val_loss: 0.0033 - val_accuracy: 0.9991\n",
      "\n",
      "Epoch 00001: val_loss improved from inf to 0.00329, saving model to best_model.h5\n",
      "Epoch 2/10\n",
      "1243636/1243636 [==============================] - 19s 15us/step - loss: 0.0037 - accuracy: 0.9990 - val_loss: 0.0030 - val_accuracy: 0.9992\n",
      "\n",
      "Epoch 00002: val_loss improved from 0.00329 to 0.00300, saving model to best_model.h5\n",
      "Epoch 3/10\n",
      "1243636/1243636 [==============================] - 20s 16us/step - loss: 0.0036 - accuracy: 0.9991 - val_loss: 0.0028 - val_accuracy: 0.9992\n",
      "\n",
      "Epoch 00003: val_loss improved from 0.00300 to 0.00279, saving model to best_model.h5\n",
      "Epoch 4/10\n",
      "1243636/1243636 [==============================] - 18s 14us/step - loss: 0.0033 - accuracy: 0.9991 - val_loss: 0.0027 - val_accuracy: 0.9993\n",
      "\n",
      "Epoch 00004: val_loss improved from 0.00279 to 0.00266, saving model to best_model.h5\n",
      "Epoch 5/10\n",
      "1243636/1243636 [==============================] - 16s 13us/step - loss: 0.0032 - accuracy: 0.9991 - val_loss: 0.0026 - val_accuracy: 0.9993\n",
      "\n",
      "Epoch 00005: val_loss improved from 0.00266 to 0.00259, saving model to best_model.h5\n",
      "Epoch 6/10\n",
      "1243636/1243636 [==============================] - 16s 13us/step - loss: 0.0031 - accuracy: 0.9991 - val_loss: 0.0024 - val_accuracy: 0.9993\n",
      "\n",
      "Epoch 00006: val_loss improved from 0.00259 to 0.00239, saving model to best_model.h5\n",
      "Epoch 7/10\n",
      "1243636/1243636 [==============================] - 18s 14us/step - loss: 0.0029 - accuracy: 0.9992 - val_loss: 0.0023 - val_accuracy: 0.9993\n",
      "\n",
      "Epoch 00007: val_loss improved from 0.00239 to 0.00231, saving model to best_model.h5\n",
      "Epoch 8/10\n",
      "1243636/1243636 [==============================] - 19s 15us/step - loss: 0.0028 - accuracy: 0.9992 - val_loss: 0.0022 - val_accuracy: 0.9994\n",
      "\n",
      "Epoch 00008: val_loss improved from 0.00231 to 0.00222, saving model to best_model.h5\n",
      "Epoch 9/10\n",
      "1243636/1243636 [==============================] - 19s 15us/step - loss: 0.0027 - accuracy: 0.9992 - val_loss: 0.0022 - val_accuracy: 0.9994\n",
      "\n",
      "Epoch 00009: val_loss improved from 0.00222 to 0.00219, saving model to best_model.h5\n",
      "Epoch 10/10\n",
      "1243636/1243636 [==============================] - 18s 14us/step - loss: 0.0027 - accuracy: 0.9992 - val_loss: 0.0022 - val_accuracy: 0.9994\n",
      "\n",
      "Epoch 00010: val_loss improved from 0.00219 to 0.00217, saving model to best_model.h5\n"
     ]
    },
    {
     "data": {
      "text/plain": [
       "<keras.callbacks.callbacks.History at 0x7fb4bb7397d0>"
      ]
     },
     "execution_count": 59,
     "metadata": {},
     "output_type": "execute_result"
    }
   ],
   "source": [
    "def step_decay(epoch):\n",
    "    initial_lrate = 0.001\n",
    "    drop = 0.5\n",
    "    epochs_drop = 5\n",
    "    lrate = initial_lrate * (drop**((1 + epoch)/epochs_drop))\n",
    "    return lrate\n",
    "\n",
    "lrate_scheduler = LearningRateScheduler(step_decay)\n",
    "early_stop = EarlyStopping(monitor='val_loss', mode='min', verbose=1, patience=5)\n",
    "model_chkpoint = ModelCheckpoint('best_model.h5', monitor='val_loss', mode='min', verbose=1, save_best_only=True)\n",
    "\n",
    "# model fitting\n",
    "model.fit(X_train, y_train, batch_size=512, epochs=10, validation_data=(X_val, y_val), callbacks=[early_stop, model_chkpoint, lrate_scheduler])"
   ]
  },
  {
   "cell_type": "code",
   "execution_count": 45,
   "metadata": {},
   "outputs": [],
   "source": [
    "y_pred = model.predict(X_test)"
   ]
  },
  {
   "cell_type": "code",
   "execution_count": 46,
   "metadata": {},
   "outputs": [],
   "source": [
    "def rel(y_test,y_pred):\n",
    "    predictionsRFR=np.array(y_pred,dtype='int') \n",
    "    CM_RFR = confusion_matrix(y_test,predictionsRFR)\n",
    "    CR_RFR = classification_report(y_test,predictionsRFR)\n",
    "    fprRFR, recallRFR, thresholdsRFR = roc_curve(y_test, predictionsRFR)\n",
    "    AUC_RFR = auc(fprRFR, recallRFR)\n",
    "    print(\"=============<>==================\\n\")\n",
    "    resultsRFR = {\"Confusion Matrix\":CM_RFR,\"Classification Report\":CR_RFR,\"Area Under Curve\":AUC_RFR}\n",
    "    for measure in resultsRFR:\n",
    "        print(measure,\": \\n\",resultsRFR[measure])\n",
    "    print(\"=============<>==================\\n\")"
   ]
  },
  {
   "cell_type": "code",
   "execution_count": 47,
   "metadata": {},
   "outputs": [
    {
     "name": "stdout",
     "output_type": "stream",
     "text": [
      "=============<>==================\n",
      "\n",
      "Confusion Matrix : \n",
      " [[911488      0]\n",
      " [  2308    439]]\n",
      "Classification Report : \n",
      "               precision    recall  f1-score   support\n",
      "\n",
      "           0       1.00      1.00      1.00    911488\n",
      "           1       1.00      0.16      0.28      2747\n",
      "\n",
      "    accuracy                           1.00    914235\n",
      "   macro avg       1.00      0.58      0.64    914235\n",
      "weighted avg       1.00      1.00      1.00    914235\n",
      "\n",
      "Area Under Curve : \n",
      " 0.5799053512923189\n",
      "=============<>==================\n",
      "\n"
     ]
    }
   ],
   "source": [
    "rel(y_test,y_pred)"
   ]
  },
  {
   "cell_type": "code",
   "execution_count": 52,
   "metadata": {},
   "outputs": [
    {
     "data": {
      "text/plain": [
       "0    439\n",
       "dtype: int64"
      ]
     },
     "execution_count": 52,
     "metadata": {},
     "output_type": "execute_result"
    }
   ],
   "source": [
    "pd.DataFrame(y_pred[y_pred==1]).count()"
   ]
  },
  {
   "cell_type": "code",
   "execution_count": null,
   "metadata": {},
   "outputs": [],
   "source": []
  }
 ],
 "metadata": {
  "environment": {
   "name": "tf2-gpu.2-1.m55",
   "type": "gcloud",
   "uri": "gcr.io/deeplearning-platform-release/tf2-gpu.2-1:m55"
  },
  "kernelspec": {
   "display_name": "Python 3",
   "language": "python",
   "name": "python3"
  },
  "language_info": {
   "codemirror_mode": {
    "name": "ipython",
    "version": 3
   },
   "file_extension": ".py",
   "mimetype": "text/x-python",
   "name": "python",
   "nbconvert_exporter": "python",
   "pygments_lexer": "ipython3",
   "version": "3.7.8"
  }
 },
 "nbformat": 4,
 "nbformat_minor": 4
}
