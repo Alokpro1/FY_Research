{
 "cells": [
  {
   "cell_type": "code",
   "execution_count": 25,
   "metadata": {},
   "outputs": [],
   "source": [
    "import keras\n",
    "from keras.models import Sequential\n",
    "from keras.layers import Dense\n",
    "from keras.optimizers import Adam\n",
    "from keras.callbacks import EarlyStopping"
   ]
  },
  {
   "cell_type": "code",
   "execution_count": 26,
   "metadata": {},
   "outputs": [],
   "source": [
    "import warnings\n",
    "warnings.filterwarnings(\"ignore\")\n",
    "\n",
    "\n",
    "import pandas as pd\n",
    "import numpy as np\n",
    "\n",
    "from random import seed,sample,randrange\n",
    "from sklearn.model_selection import train_test_split\n",
    "from sklearn.preprocessing import LabelBinarizer\n",
    "from sklearn.preprocessing import StandardScaler\n",
    "from tqdm import tqdm"
   ]
  },
  {
   "cell_type": "code",
   "execution_count": 27,
   "metadata": {},
   "outputs": [],
   "source": [
    "m1 = [0, 0, 0]\n",
    "m2 = [0, 1, 0]\n",
    "m3 = [-1, 0, 1]\n",
    "m4 = [0, 0.5, 1]\n",
    "cov1 = [[1, 0, 0],[0, 1, 0],[0, 0, 1]]\n",
    "cov2 = [[1, 0, 1],[0, 2, 2],[1, 2, 5]]\n",
    "cov3 = [[2, 0, 0],[0, 6, 0],[0, 0, 1]]\n",
    "cov4 = [[2, 0, 0],[0, 1, 0],[0, 0, 3]]"
   ]
  },
  {
   "cell_type": "code",
   "execution_count": 28,
   "metadata": {},
   "outputs": [],
   "source": [
    "x1=pd.DataFrame(np.random.multivariate_normal(m1, cov1, 1000),columns=list('ABC'))\n",
    "x1['y']=1\n",
    "x2=pd.DataFrame(np.random.multivariate_normal(m2, cov2, 1000),columns=list('ABC'))\n",
    "x2['y']=2\n",
    "x3=pd.DataFrame(np.random.multivariate_normal(m3, cov3, 1000),columns=list('ABC'))\n",
    "x3['y']=3\n",
    "x4=pd.DataFrame(np.random.multivariate_normal(m4, cov4, 1000),columns=list('ABC'))\n",
    "x4['y']=4\n",
    "\n"
   ]
  },
  {
   "cell_type": "code",
   "execution_count": null,
   "metadata": {},
   "outputs": [],
   "source": []
  },
  {
   "cell_type": "code",
   "execution_count": 29,
   "metadata": {},
   "outputs": [],
   "source": [
    "data=x1\n",
    "data=data.append(x2)\n",
    "data=data.append(x3)\n",
    "data=data.append(x4)"
   ]
  },
  {
   "cell_type": "code",
   "execution_count": 30,
   "metadata": {},
   "outputs": [],
   "source": [
    "X=data.drop('y',axis=1)\n",
    "y=data['y']"
   ]
  },
  {
   "cell_type": "code",
   "execution_count": 31,
   "metadata": {},
   "outputs": [],
   "source": [
    "from keras.utils import to_categorical\n",
    "y = to_categorical(y)"
   ]
  },
  {
   "cell_type": "code",
   "execution_count": 32,
   "metadata": {},
   "outputs": [],
   "source": [
    "X_train, X_val, y_train, y_val = train_test_split(X, y, test_size=0.33, random_state=42)"
   ]
  },
  {
   "cell_type": "code",
   "execution_count": 33,
   "metadata": {},
   "outputs": [],
   "source": [
    "model = Sequential()\n",
    "model.add(Dense(15, input_dim=3, activation=\"relu\"))\n",
    "model.add(Dense(30, activation=\"relu\"))\n",
    "model.add(Dense(12, activation=\"relu\"))\n",
    "model.add(Dense(5, activation='softmax'))"
   ]
  },
  {
   "cell_type": "code",
   "execution_count": 34,
   "metadata": {},
   "outputs": [],
   "source": [
    "model.compile(loss='categorical_crossentropy',optimizer=Adam(lr=0.01),metrics=['accuracy'])"
   ]
  },
  {
   "cell_type": "code",
   "execution_count": 35,
   "metadata": {},
   "outputs": [
    {
     "name": "stdout",
     "output_type": "stream",
     "text": [
      "Model: \"sequential_2\"\n",
      "_________________________________________________________________\n",
      "Layer (type)                 Output Shape              Param #   \n",
      "=================================================================\n",
      "dense_5 (Dense)              (None, 15)                60        \n",
      "_________________________________________________________________\n",
      "dense_6 (Dense)              (None, 30)                480       \n",
      "_________________________________________________________________\n",
      "dense_7 (Dense)              (None, 12)                372       \n",
      "_________________________________________________________________\n",
      "dense_8 (Dense)              (None, 5)                 65        \n",
      "=================================================================\n",
      "Total params: 977\n",
      "Trainable params: 977\n",
      "Non-trainable params: 0\n",
      "_________________________________________________________________\n",
      "None\n"
     ]
    }
   ],
   "source": [
    "print(model.summary())"
   ]
  },
  {
   "cell_type": "code",
   "execution_count": 36,
   "metadata": {},
   "outputs": [],
   "source": [
    "early_stopping = EarlyStopping(min_delta = 0.001, mode = 'max', monitor='val_acc', patience = 2)\n",
    "callback = [early_stopping]\n"
   ]
  },
  {
   "cell_type": "code",
   "execution_count": 37,
   "metadata": {},
   "outputs": [
    {
     "name": "stdout",
     "output_type": "stream",
     "text": [
      "Train on 2680 samples, validate on 1320 samples\n",
      "Epoch 1/100\n",
      "2680/2680 [==============================] - 2s 773us/step - loss: 1.1397 - accuracy: 0.4899 - val_loss: 1.1106 - val_accuracy: 0.5189\n",
      "Epoch 2/100\n",
      "2680/2680 [==============================] - 1s 489us/step - loss: 1.0565 - accuracy: 0.5299 - val_loss: 1.0704 - val_accuracy: 0.5364\n",
      "Epoch 3/100\n",
      "2680/2680 [==============================] - 1s 476us/step - loss: 1.0304 - accuracy: 0.5410 - val_loss: 1.0388 - val_accuracy: 0.5356\n",
      "Epoch 4/100\n",
      "2680/2680 [==============================] - 1s 412us/step - loss: 1.0163 - accuracy: 0.5474 - val_loss: 1.0416 - val_accuracy: 0.5402\n",
      "Epoch 5/100\n",
      "2680/2680 [==============================] - 1s 463us/step - loss: 1.0143 - accuracy: 0.5414 - val_loss: 1.0599 - val_accuracy: 0.5174\n",
      "Epoch 6/100\n",
      "2680/2680 [==============================] - 1s 424us/step - loss: 1.0159 - accuracy: 0.5418 - val_loss: 1.0428 - val_accuracy: 0.5242\n",
      "Epoch 7/100\n",
      "2680/2680 [==============================] - 1s 426us/step - loss: 1.0098 - accuracy: 0.5571 - val_loss: 1.0253 - val_accuracy: 0.5439\n",
      "Epoch 8/100\n",
      "2680/2680 [==============================] - 1s 407us/step - loss: 1.0037 - accuracy: 0.5571 - val_loss: 1.0632 - val_accuracy: 0.5189\n",
      "Epoch 9/100\n",
      "2680/2680 [==============================] - 1s 405us/step - loss: 1.0094 - accuracy: 0.5493 - val_loss: 1.0531 - val_accuracy: 0.5424\n",
      "Epoch 10/100\n",
      "2680/2680 [==============================] - 1s 423us/step - loss: 0.9989 - accuracy: 0.5668 - val_loss: 1.0245 - val_accuracy: 0.5652\n",
      "Epoch 11/100\n",
      "2680/2680 [==============================] - 1s 431us/step - loss: 1.0059 - accuracy: 0.5560 - val_loss: 1.0487 - val_accuracy: 0.5409\n",
      "Epoch 12/100\n",
      "2680/2680 [==============================] - 1s 432us/step - loss: 1.0089 - accuracy: 0.5601 - val_loss: 1.0260 - val_accuracy: 0.5417\n",
      "Epoch 13/100\n",
      "2680/2680 [==============================] - 1s 402us/step - loss: 0.9974 - accuracy: 0.5571 - val_loss: 1.0642 - val_accuracy: 0.5386\n",
      "Epoch 14/100\n",
      "2680/2680 [==============================] - 1s 419us/step - loss: 0.9979 - accuracy: 0.5578 - val_loss: 1.0266 - val_accuracy: 0.5477\n",
      "Epoch 15/100\n",
      "2680/2680 [==============================] - 1s 451us/step - loss: 0.9940 - accuracy: 0.5530 - val_loss: 1.0632 - val_accuracy: 0.5477\n",
      "Epoch 16/100\n",
      "2680/2680 [==============================] - 1s 480us/step - loss: 0.9904 - accuracy: 0.5668 - val_loss: 1.0678 - val_accuracy: 0.5242\n",
      "Epoch 17/100\n",
      "2680/2680 [==============================] - 1s 398us/step - loss: 0.9851 - accuracy: 0.5649 - val_loss: 1.0304 - val_accuracy: 0.5417\n",
      "Epoch 18/100\n",
      "2680/2680 [==============================] - 1s 407us/step - loss: 0.9917 - accuracy: 0.5601 - val_loss: 1.0413 - val_accuracy: 0.5356\n",
      "Epoch 19/100\n",
      "2680/2680 [==============================] - 1s 450us/step - loss: 0.9963 - accuracy: 0.5556 - val_loss: 1.0286 - val_accuracy: 0.5508\n",
      "Epoch 20/100\n",
      "2680/2680 [==============================] - 1s 427us/step - loss: 0.9912 - accuracy: 0.5590 - val_loss: 1.0417 - val_accuracy: 0.5553\n",
      "Epoch 21/100\n",
      "2680/2680 [==============================] - 1s 435us/step - loss: 0.9876 - accuracy: 0.5616 - val_loss: 1.0420 - val_accuracy: 0.5439\n",
      "Epoch 22/100\n",
      "2680/2680 [==============================] - 1s 392us/step - loss: 0.9830 - accuracy: 0.5660 - val_loss: 1.0810 - val_accuracy: 0.5288\n",
      "Epoch 23/100\n",
      "2680/2680 [==============================] - 1s 404us/step - loss: 0.9868 - accuracy: 0.5560 - val_loss: 1.0352 - val_accuracy: 0.5614\n",
      "Epoch 24/100\n",
      "2680/2680 [==============================] - 1s 390us/step - loss: 0.9792 - accuracy: 0.5646 - val_loss: 1.0675 - val_accuracy: 0.5356\n",
      "Epoch 25/100\n",
      "2680/2680 [==============================] - 1s 453us/step - loss: 0.9907 - accuracy: 0.5608 - val_loss: 1.0252 - val_accuracy: 0.5636\n",
      "Epoch 26/100\n",
      "2680/2680 [==============================] - 1s 399us/step - loss: 0.9877 - accuracy: 0.5575 - val_loss: 1.0501 - val_accuracy: 0.5417\n",
      "Epoch 27/100\n",
      "2680/2680 [==============================] - 1s 401us/step - loss: 0.9798 - accuracy: 0.5627 - val_loss: 1.0657 - val_accuracy: 0.5386\n",
      "Epoch 28/100\n",
      "2680/2680 [==============================] - 1s 397us/step - loss: 0.9883 - accuracy: 0.5687 - val_loss: 1.0790 - val_accuracy: 0.5394\n",
      "Epoch 29/100\n",
      "2680/2680 [==============================] - 1s 395us/step - loss: 0.9854 - accuracy: 0.5567 - val_loss: 1.0394 - val_accuracy: 0.5455\n",
      "Epoch 30/100\n",
      "2680/2680 [==============================] - 1s 396us/step - loss: 0.9773 - accuracy: 0.5731 - val_loss: 1.0574 - val_accuracy: 0.5341\n",
      "Epoch 31/100\n",
      "2680/2680 [==============================] - 1s 393us/step - loss: 0.9855 - accuracy: 0.5601 - val_loss: 1.0434 - val_accuracy: 0.5348\n",
      "Epoch 32/100\n",
      "2680/2680 [==============================] - 1s 436us/step - loss: 0.9852 - accuracy: 0.5575 - val_loss: 1.0716 - val_accuracy: 0.5326\n",
      "Epoch 33/100\n",
      "2680/2680 [==============================] - 1s 392us/step - loss: 0.9858 - accuracy: 0.5582 - val_loss: 1.0531 - val_accuracy: 0.5409\n",
      "Epoch 34/100\n",
      "2680/2680 [==============================] - 1s 451us/step - loss: 0.9779 - accuracy: 0.5716 - val_loss: 1.0502 - val_accuracy: 0.5409\n",
      "Epoch 35/100\n",
      "2680/2680 [==============================] - 1s 404us/step - loss: 0.9828 - accuracy: 0.5616 - val_loss: 1.0405 - val_accuracy: 0.5258\n",
      "Epoch 36/100\n",
      "2680/2680 [==============================] - 1s 444us/step - loss: 0.9781 - accuracy: 0.5511 - val_loss: 1.0435 - val_accuracy: 0.5371\n",
      "Epoch 37/100\n",
      "2680/2680 [==============================] - 1s 400us/step - loss: 0.9826 - accuracy: 0.5560 - val_loss: 1.1075 - val_accuracy: 0.5280\n",
      "Epoch 38/100\n",
      "2680/2680 [==============================] - 1s 389us/step - loss: 0.9847 - accuracy: 0.5593 - val_loss: 1.0533 - val_accuracy: 0.5227\n",
      "Epoch 39/100\n",
      "2680/2680 [==============================] - 1s 423us/step - loss: 0.9754 - accuracy: 0.5604 - val_loss: 1.0480 - val_accuracy: 0.5462\n",
      "Epoch 40/100\n",
      "2680/2680 [==============================] - 1s 413us/step - loss: 0.9771 - accuracy: 0.5619 - val_loss: 1.0303 - val_accuracy: 0.5439\n",
      "Epoch 41/100\n",
      "2680/2680 [==============================] - 1s 435us/step - loss: 0.9706 - accuracy: 0.5616 - val_loss: 1.0573 - val_accuracy: 0.5364\n",
      "Epoch 42/100\n",
      "2680/2680 [==============================] - 1s 431us/step - loss: 0.9787 - accuracy: 0.5593 - val_loss: 1.0428 - val_accuracy: 0.5424\n",
      "Epoch 43/100\n",
      "2680/2680 [==============================] - 1s 436us/step - loss: 0.9759 - accuracy: 0.5582 - val_loss: 1.0758 - val_accuracy: 0.5258\n",
      "Epoch 44/100\n",
      "2680/2680 [==============================] - 1s 456us/step - loss: 0.9728 - accuracy: 0.5638 - val_loss: 1.0568 - val_accuracy: 0.5250\n",
      "Epoch 45/100\n",
      "2680/2680 [==============================] - 1s 411us/step - loss: 0.9752 - accuracy: 0.5604 - val_loss: 1.0598 - val_accuracy: 0.5500\n",
      "Epoch 46/100\n",
      "2680/2680 [==============================] - 1s 409us/step - loss: 0.9705 - accuracy: 0.5612 - val_loss: 1.0380 - val_accuracy: 0.5515\n",
      "Epoch 47/100\n",
      "2680/2680 [==============================] - 1s 407us/step - loss: 0.9737 - accuracy: 0.5642 - val_loss: 1.0614 - val_accuracy: 0.5462\n",
      "Epoch 48/100\n",
      "2680/2680 [==============================] - 1s 399us/step - loss: 0.9771 - accuracy: 0.5593 - val_loss: 1.0502 - val_accuracy: 0.5348\n",
      "Epoch 49/100\n",
      "2680/2680 [==============================] - 1s 394us/step - loss: 0.9686 - accuracy: 0.5593 - val_loss: 1.0319 - val_accuracy: 0.5492\n",
      "Epoch 50/100\n",
      "2680/2680 [==============================] - 1s 418us/step - loss: 0.9724 - accuracy: 0.5623 - val_loss: 1.0450 - val_accuracy: 0.5417\n",
      "Epoch 51/100\n",
      "2680/2680 [==============================] - 1s 412us/step - loss: 0.9828 - accuracy: 0.5660 - val_loss: 1.0742 - val_accuracy: 0.5258\n",
      "Epoch 52/100\n",
      "2680/2680 [==============================] - 1s 395us/step - loss: 0.9697 - accuracy: 0.5664 - val_loss: 1.0893 - val_accuracy: 0.5311\n",
      "Epoch 53/100\n",
      "2680/2680 [==============================] - 1s 425us/step - loss: 0.9797 - accuracy: 0.5567 - val_loss: 1.0271 - val_accuracy: 0.5439\n",
      "Epoch 54/100\n",
      "2680/2680 [==============================] - 1s 448us/step - loss: 0.9781 - accuracy: 0.5672 - val_loss: 1.0475 - val_accuracy: 0.5417\n",
      "Epoch 55/100\n",
      "2680/2680 [==============================] - 1s 409us/step - loss: 0.9781 - accuracy: 0.5593 - val_loss: 1.0636 - val_accuracy: 0.5258\n",
      "Epoch 56/100\n",
      "2680/2680 [==============================] - 1s 499us/step - loss: 0.9852 - accuracy: 0.5616 - val_loss: 1.0698 - val_accuracy: 0.5295\n",
      "Epoch 57/100\n",
      "2680/2680 [==============================] - 1s 410us/step - loss: 0.9724 - accuracy: 0.5664 - val_loss: 1.0464 - val_accuracy: 0.5379\n",
      "Epoch 58/100\n",
      "2680/2680 [==============================] - 1s 391us/step - loss: 0.9772 - accuracy: 0.5608 - val_loss: 1.0727 - val_accuracy: 0.5212\n",
      "Epoch 59/100\n",
      "2680/2680 [==============================] - 1s 451us/step - loss: 0.9813 - accuracy: 0.5627 - val_loss: 1.0655 - val_accuracy: 0.5417\n",
      "Epoch 60/100\n",
      "2680/2680 [==============================] - 1s 444us/step - loss: 0.9755 - accuracy: 0.5612 - val_loss: 1.0586 - val_accuracy: 0.5492\n",
      "Epoch 61/100\n",
      "2680/2680 [==============================] - 1s 449us/step - loss: 0.9700 - accuracy: 0.5649 - val_loss: 1.0454 - val_accuracy: 0.5508\n",
      "Epoch 62/100\n",
      "2680/2680 [==============================] - 1s 401us/step - loss: 0.9790 - accuracy: 0.5634 - val_loss: 1.0373 - val_accuracy: 0.5439\n",
      "Epoch 63/100\n",
      "2680/2680 [==============================] - 1s 409us/step - loss: 0.9784 - accuracy: 0.5619 - val_loss: 1.0435 - val_accuracy: 0.5341\n",
      "Epoch 64/100\n",
      "2680/2680 [==============================] - 1s 396us/step - loss: 0.9733 - accuracy: 0.5642 - val_loss: 1.0649 - val_accuracy: 0.5356\n",
      "Epoch 65/100\n",
      "2680/2680 [==============================] - 1s 430us/step - loss: 0.9797 - accuracy: 0.5582 - val_loss: 1.0853 - val_accuracy: 0.5356\n",
      "Epoch 66/100\n",
      "2680/2680 [==============================] - 1s 393us/step - loss: 0.9704 - accuracy: 0.5601 - val_loss: 1.0641 - val_accuracy: 0.5492\n",
      "Epoch 67/100\n",
      "2680/2680 [==============================] - 1s 396us/step - loss: 0.9647 - accuracy: 0.5739 - val_loss: 1.1433 - val_accuracy: 0.5318\n",
      "Epoch 68/100\n",
      "2680/2680 [==============================] - 1s 423us/step - loss: 0.9796 - accuracy: 0.5638 - val_loss: 1.0620 - val_accuracy: 0.5318\n",
      "Epoch 69/100\n",
      "2680/2680 [==============================] - 1s 402us/step - loss: 0.9733 - accuracy: 0.5657 - val_loss: 1.0452 - val_accuracy: 0.5402\n",
      "Epoch 70/100\n",
      "2680/2680 [==============================] - 1s 434us/step - loss: 0.9741 - accuracy: 0.5634 - val_loss: 1.0588 - val_accuracy: 0.5462\n",
      "Epoch 71/100\n",
      "2680/2680 [==============================] - 1s 392us/step - loss: 0.9690 - accuracy: 0.5660 - val_loss: 1.0913 - val_accuracy: 0.5386\n",
      "Epoch 72/100\n",
      "2680/2680 [==============================] - 1s 396us/step - loss: 0.9680 - accuracy: 0.5672 - val_loss: 1.0561 - val_accuracy: 0.5417\n",
      "Epoch 73/100\n",
      "2680/2680 [==============================] - 1s 430us/step - loss: 0.9679 - accuracy: 0.5631 - val_loss: 1.0643 - val_accuracy: 0.5303\n",
      "Epoch 74/100\n",
      "2680/2680 [==============================] - 1s 408us/step - loss: 0.9741 - accuracy: 0.5604 - val_loss: 1.0620 - val_accuracy: 0.5364\n",
      "Epoch 75/100\n",
      "2680/2680 [==============================] - 1s 423us/step - loss: 0.9689 - accuracy: 0.5601 - val_loss: 1.0688 - val_accuracy: 0.5417\n",
      "Epoch 76/100\n",
      "2680/2680 [==============================] - 1s 418us/step - loss: 0.9793 - accuracy: 0.5649 - val_loss: 1.0652 - val_accuracy: 0.5523\n",
      "Epoch 77/100\n",
      "2680/2680 [==============================] - 1s 427us/step - loss: 0.9662 - accuracy: 0.5701 - val_loss: 1.0487 - val_accuracy: 0.5288\n",
      "Epoch 78/100\n",
      "2680/2680 [==============================] - 1s 387us/step - loss: 0.9728 - accuracy: 0.5608 - val_loss: 1.0579 - val_accuracy: 0.5553\n",
      "Epoch 79/100\n",
      "2680/2680 [==============================] - 1s 444us/step - loss: 0.9710 - accuracy: 0.5582 - val_loss: 1.0640 - val_accuracy: 0.5470\n",
      "Epoch 80/100\n",
      "2680/2680 [==============================] - 1s 451us/step - loss: 0.9711 - accuracy: 0.5668 - val_loss: 1.0884 - val_accuracy: 0.5371\n",
      "Epoch 81/100\n",
      "2680/2680 [==============================] - 1s 423us/step - loss: 0.9641 - accuracy: 0.5735 - val_loss: 1.0660 - val_accuracy: 0.5409\n",
      "Epoch 82/100\n",
      "2680/2680 [==============================] - 1s 399us/step - loss: 0.9698 - accuracy: 0.5683 - val_loss: 1.0898 - val_accuracy: 0.5439\n",
      "Epoch 83/100\n",
      "2680/2680 [==============================] - 1s 423us/step - loss: 0.9678 - accuracy: 0.5567 - val_loss: 1.0665 - val_accuracy: 0.5371\n",
      "Epoch 84/100\n",
      "2680/2680 [==============================] - 1s 408us/step - loss: 0.9686 - accuracy: 0.5593 - val_loss: 1.1038 - val_accuracy: 0.5258\n",
      "Epoch 85/100\n",
      "2680/2680 [==============================] - 1s 381us/step - loss: 0.9743 - accuracy: 0.5604 - val_loss: 1.0345 - val_accuracy: 0.5424\n",
      "Epoch 86/100\n",
      "2680/2680 [==============================] - 1s 381us/step - loss: 0.9713 - accuracy: 0.5616 - val_loss: 1.0508 - val_accuracy: 0.5409\n",
      "Epoch 87/100\n",
      "2680/2680 [==============================] - 1s 394us/step - loss: 0.9746 - accuracy: 0.5690 - val_loss: 1.0757 - val_accuracy: 0.5402\n",
      "Epoch 88/100\n",
      "2680/2680 [==============================] - 1s 413us/step - loss: 0.9779 - accuracy: 0.5560 - val_loss: 1.0518 - val_accuracy: 0.5432\n",
      "Epoch 89/100\n",
      "2680/2680 [==============================] - 1s 459us/step - loss: 0.9683 - accuracy: 0.5619 - val_loss: 1.0601 - val_accuracy: 0.5402\n",
      "Epoch 90/100\n",
      "2680/2680 [==============================] - 1s 413us/step - loss: 0.9699 - accuracy: 0.5619 - val_loss: 1.0561 - val_accuracy: 0.5364\n",
      "Epoch 91/100\n",
      "2680/2680 [==============================] - 1s 410us/step - loss: 0.9706 - accuracy: 0.5590 - val_loss: 1.0538 - val_accuracy: 0.5311\n",
      "Epoch 92/100\n",
      "2680/2680 [==============================] - 1s 461us/step - loss: 0.9862 - accuracy: 0.5500 - val_loss: 1.0647 - val_accuracy: 0.5288\n",
      "Epoch 93/100\n",
      "2680/2680 [==============================] - 1s 398us/step - loss: 0.9715 - accuracy: 0.5519 - val_loss: 1.0568 - val_accuracy: 0.5477\n",
      "Epoch 94/100\n",
      "2680/2680 [==============================] - 1s 441us/step - loss: 0.9701 - accuracy: 0.5653 - val_loss: 1.0475 - val_accuracy: 0.5402\n",
      "Epoch 95/100\n",
      "2680/2680 [==============================] - 1s 409us/step - loss: 0.9680 - accuracy: 0.5672 - val_loss: 1.0977 - val_accuracy: 0.5386\n",
      "Epoch 96/100\n",
      "2680/2680 [==============================] - 1s 386us/step - loss: 0.9717 - accuracy: 0.5642 - val_loss: 1.0577 - val_accuracy: 0.5447\n",
      "Epoch 97/100\n",
      "2680/2680 [==============================] - 1s 393us/step - loss: 0.9710 - accuracy: 0.5709 - val_loss: 1.0733 - val_accuracy: 0.5341\n",
      "Epoch 98/100\n",
      "2680/2680 [==============================] - 1s 461us/step - loss: 0.9683 - accuracy: 0.5597 - val_loss: 1.1075 - val_accuracy: 0.5303\n",
      "Epoch 99/100\n",
      "2680/2680 [==============================] - 1s 423us/step - loss: 0.9760 - accuracy: 0.5593 - val_loss: 1.0705 - val_accuracy: 0.5386\n",
      "Epoch 100/100\n",
      "2680/2680 [==============================] - 1s 390us/step - loss: 0.9704 - accuracy: 0.5657 - val_loss: 1.0656 - val_accuracy: 0.5402\n"
     ]
    }
   ],
   "source": [
    "history=model.fit(X_train, y_train, validation_data=(X_val, y_val),epochs=100, batch_size=8, verbose=1, callbacks=callback)"
   ]
  },
  {
   "cell_type": "code",
   "execution_count": 38,
   "metadata": {},
   "outputs": [
    {
     "data": {
      "image/png": "[encoded data removed]",
      "text/plain": [
       "<Figure size 432x288 with 1 Axes>"
      ]
     },
     "metadata": {
      "needs_background": "light"
     },
     "output_type": "display_data"
    }
   ],
   "source": [
    "import matplotlib.pyplot as plt\n",
    "\n",
    "\n",
    "epoch_count = range(1, len(history.history['loss']) + 1)\n",
    "\n",
    "\n",
    "plt.plot(epoch_count, history.history['loss'], 'r--')\n",
    "plt.plot(epoch_count, history.history['val_loss'], 'b-')\n",
    "plt.legend(['Training Loss', 'Validation Loss'])\n",
    "plt.xlabel('Epoch')\n",
    "plt.ylabel('Loss')\n",
    "plt.show()"
   ]
  },
  {
   "cell_type": "code",
   "execution_count": 39,
   "metadata": {},
   "outputs": [
    {
     "data": {
      "text/html": [
       "<div>\n",
       "<style scoped>\n",
       "    .dataframe tbody tr th:only-of-type {\n",
       "        vertical-align: middle;\n",
       "    }\n",
       "\n",
       "    .dataframe tbody tr th {\n",
       "        vertical-align: top;\n",
       "    }\n",
       "\n",
       "    .dataframe thead th {\n",
       "        text-align: right;\n",
       "    }\n",
       "</style>\n",
       "<table border=\"1\" class=\"dataframe\">\n",
       "  <thead>\n",
       "    <tr style=\"text-align: right;\">\n",
       "      <th></th>\n",
       "      <th>0</th>\n",
       "      <th>1</th>\n",
       "      <th>2</th>\n",
       "    </tr>\n",
       "  </thead>\n",
       "  <tbody>\n",
       "    <tr>\n",
       "      <th>0</th>\n",
       "      <td>0.0</td>\n",
       "      <td>0.0</td>\n",
       "      <td>0</td>\n",
       "    </tr>\n",
       "    <tr>\n",
       "      <th>1</th>\n",
       "      <td>-0.5</td>\n",
       "      <td>-0.5</td>\n",
       "      <td>0</td>\n",
       "    </tr>\n",
       "    <tr>\n",
       "      <th>2</th>\n",
       "      <td>-1.0</td>\n",
       "      <td>0.0</td>\n",
       "      <td>0</td>\n",
       "    </tr>\n",
       "  </tbody>\n",
       "</table>\n",
       "</div>"
      ],
      "text/plain": [
       "     0    1  2\n",
       "0  0.0  0.0  0\n",
       "1 -0.5 -0.5  0\n",
       "2 -1.0  0.0  0"
      ]
     },
     "execution_count": 39,
     "metadata": {},
     "output_type": "execute_result"
    }
   ],
   "source": [
    "pd.DataFrame([[0,0,0],[-0.5,-0.5,0],[-1,0,0]])"
   ]
  },
  {
   "cell_type": "code",
   "execution_count": 40,
   "metadata": {},
   "outputs": [],
   "source": [
    "y_pred=model.predict_classes(pd.DataFrame([[0,0,0],[-0.5,-0.5,0],[-1,0,0]]))"
   ]
  },
  {
   "cell_type": "code",
   "execution_count": 41,
   "metadata": {},
   "outputs": [
    {
     "data": {
      "text/plain": [
       "array([1, 1, 1])"
      ]
     },
     "execution_count": 41,
     "metadata": {},
     "output_type": "execute_result"
    }
   ],
   "source": [
    "y_pred"
   ]
  },
  {
   "cell_type": "code",
   "execution_count": null,
   "metadata": {},
   "outputs": [],
   "source": []
  }
 ],
 "metadata": {
  "environment": {
   "name": "tf2-gpu.2-1.m55",
   "type": "gcloud",
   "uri": "gcr.io/deeplearning-platform-release/tf2-gpu.2-1:m55"
  },
  "kernelspec": {
   "display_name": "Python 3",
   "language": "python",
   "name": "python3"
  },
  "language_info": {
   "codemirror_mode": {
    "name": "ipython",
    "version": 3
   },
   "file_extension": ".py",
   "mimetype": "text/x-python",
   "name": "python",
   "nbconvert_exporter": "python",
   "pygments_lexer": "ipython3",
   "version": "3.7.8"
  }
 },
 "nbformat": 4,
 "nbformat_minor": 4
}
