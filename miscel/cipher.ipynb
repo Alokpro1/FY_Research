{
 "cells": [
  {
   "cell_type": "code",
   "execution_count": 1,
   "metadata": {},
   "outputs": [
    {
     "name": "stdout",
     "output_type": "stream",
     "text": [
      "Msg:  hellomister\n",
      "key :  13\n",
      "Cipher:  URYYBZVFGRE\n",
      "Decypting........\n",
      "Msg:  hellomister\n"
     ]
    }
   ],
   "source": [
    "from random import randint\n",
    "\n",
    "\n",
    "def caeser_encrypt(msg,key):\n",
    "    cipher = \"\"\n",
    "    for i in range(len(msg)):\n",
    "        ch = msg[i]\n",
    "        cipher += chr((ord(ch) + key-97) % 26 + 65)\n",
    "    return cipher\n",
    "\n",
    "def caeser_decrypt(cipher,key):\n",
    "    msg =\"\"\n",
    "    key=26-key\n",
    "    for i in range(len(cipher)):\n",
    "        ch=cipher[i]\n",
    "        msg += chr((ord(ch) + key-65) % 26 + 97)\n",
    "    return msg\n",
    "\n",
    "msg = \"hellomister\"\n",
    "key =randint(0,26)\n",
    "\n",
    "print(\"Msg: \",msg)\n",
    "print(\"key : \",key)\n",
    "cipher=caeser_encrypt(msg,key)\n",
    "print(\"Cipher: \",cipher)\n",
    "print(\"Decypting........\")\n",
    "print(\"Msg: \",caeser_decrypt(cipher,key))"
   ]
  },
  {
   "cell_type": "code",
   "execution_count": 2,
   "metadata": {},
   "outputs": [
    {
     "name": "stdout",
     "output_type": "stream",
     "text": [
      "Msg:  hellomister\n",
      "key1 :  13  key2:  3\n",
      "Cipher:  PGBBKESWZGT\n",
      "Decypting........\n",
      "Msg:  hellomister\n"
     ]
    }
   ],
   "source": [
    "def modInverse(a, m) : \n",
    "    a = a % m; \n",
    "    for x in range(1, m) : \n",
    "        if ((a * x) % m == 1) : \n",
    "            return x \n",
    "    return 1\n",
    "def affine_encrypt(msg,key1,key2):\n",
    "    cipher = \"\"\n",
    "    for i in range(len(msg)):\n",
    "        ch = msg[i]\n",
    "        cipher += chr(((ord(ch)-97)*key2 % 26+ key1)%26 + 65)\n",
    "    return cipher\n",
    "\n",
    "def affine_decrypt(cipher,key1,key2):\n",
    "    msg =\"\"\n",
    "    key1=26-key1\n",
    "    key2=modInverse(key2,26)\n",
    "    for i in range(len(cipher)):\n",
    "        ch=cipher[i]\n",
    "        msg += chr(((ord(ch) -65+key1) % 26 *key2)%26 + 97)\n",
    "    return msg\n",
    "\n",
    "msg = \"hellomister\"\n",
    "key1 =randint(0,26)\n",
    "key_list = [1,3,5,7,9,11,15,17,19,21,23,25]\n",
    "key2 = key_list[randint(0,len(key_list))]\n",
    "\n",
    "print(\"Msg: \",msg)\n",
    "print(\"key1 : \",key,\" key2: \",key2)\n",
    "cipher=affine_encrypt(msg,key1,key2)\n",
    "print(\"Cipher: \",cipher)\n",
    "print(\"Decypting........\")\n",
    "print(\"Msg: \",affine_decrypt(cipher,key1,key2))"
   ]
  },
  {
   "cell_type": "code",
   "execution_count": 3,
   "metadata": {},
   "outputs": [
    {
     "name": "stdout",
     "output_type": "stream",
     "text": [
      "Msg:  hellomister\n",
      "Cipher:  retsimolleh\n",
      "Decypting........\n",
      "Msg:  hellomister\n"
     ]
    }
   ],
   "source": [
    "def rev_encrypt(msg):\n",
    "    cipher=msg[::-1]\n",
    "    return cipher\n",
    "def rev_decrypt(cipher):\n",
    "    msg=cipher[::-1]\n",
    "    return msg\n",
    "\n",
    "msg = \"hellomister\"\n",
    "print(\"Msg: \",msg)\n",
    "cipher=rev_encrypt(msg)\n",
    "print(\"Cipher: \",cipher)\n",
    "print(\"Decypting........\")\n",
    "print(\"Msg: \",rev_decrypt(cipher))"
   ]
  },
  {
   "cell_type": "code",
   "execution_count": 4,
   "metadata": {},
   "outputs": [
    {
     "name": "stdout",
     "output_type": "stream",
     "text": [
      "Msg:  nzuvx\n",
      "Cipher:  AMHIK\n",
      "Decypting........\n",
      "Msg:  nzuvx\n"
     ]
    }
   ],
   "source": [
    "def rot13_encrypt(msg):\n",
    "    cipher=\"\"\n",
    "    for i in range(len(msg)):\n",
    "        ch=msg[i]\n",
    "        if ord(ch)<78:\n",
    "            cipher += chr((ord(ch) -97)+13 + 65)\n",
    "        else:\n",
    "            cipher += chr((ord(ch) -97)-13 + 65)\n",
    "    return cipher\n",
    "\n",
    "def rot13_decrypt(cipher):\n",
    "    msg=\"\"\n",
    "    for i in range(len(cipher)):\n",
    "        ch=cipher[i]\n",
    "        if ord(ch)<110:\n",
    "            msg += chr((ord(ch) + 13-65) + 97)\n",
    "        else:\n",
    "            msg += chr((ord(ch) - 13-65) + 97)\n",
    "    return msg\n",
    "\n",
    "msg = \"nzuvx\"\n",
    "print(\"Msg: \",msg)\n",
    "cipher=rot13_encrypt(msg)\n",
    "print(\"Cipher: \",cipher)\n",
    "print(\"Decypting........\")\n",
    "print(\"Msg: \",rot13_decrypt(cipher))\n",
    "            "
   ]
  },
  {
   "cell_type": "code",
   "execution_count": null,
   "metadata": {},
   "outputs": [],
   "source": []
  }
 ],
 "metadata": {
  "environment": {
   "name": "tf2-gpu.2-1.m55",
   "type": "gcloud",
   "uri": "gcr.io/deeplearning-platform-release/tf2-gpu.2-1:m55"
  },
  "kernelspec": {
   "display_name": "Python 3",
   "language": "python",
   "name": "python3"
  },
  "language_info": {
   "codemirror_mode": {
    "name": "ipython",
    "version": 3
   },
   "file_extension": ".py",
   "mimetype": "text/x-python",
   "name": "python",
   "nbconvert_exporter": "python",
   "pygments_lexer": "ipython3",
   "version": "3.7.8"
  }
 },
 "nbformat": 4,
 "nbformat_minor": 4
}
