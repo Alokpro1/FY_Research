{
 "cells": [
  {
   "cell_type": "code",
   "execution_count": 6,
   "metadata": {},
   "outputs": [
    {
     "name": "stdout",
     "output_type": "stream",
     "text": [
      "For  www.google.org  IP address:  216.239.32.27\n",
      "IP Address: 216.239.32.27  Packed: b'd8ef201b' Unpacked:  216.239.32.27\n"
     ]
    }
   ],
   "source": [
    "import socket\n",
    "from binascii import hexlify\n",
    "import socket\n",
    "\n",
    "def getinfo():\n",
    "    host = 'www.google.org'\n",
    "    ip=socket.gethostbyname(host)\n",
    "    print(\"For \",host,\" IP address: \",ip)\n",
    "    return ip\n",
    "    \n",
    "def convert_ip4_address(ip):\n",
    "    packed_ip_addr = socket.inet_aton(ip)\n",
    "    unpacked_ip_addr = socket.inet_ntoa(packed_ip_addr)\n",
    "    print(\"IP Address:\",ip,\" Packed:\",hexlify(packed_ip_addr),\"Unpacked: \",unpacked_ip_addr)\n",
    "    \n",
    "if __name__ == '__main__':\n",
    "    ip=getinfo()\n",
    "    convert_ip4_address(ip)"
   ]
  },
  {
   "cell_type": "code",
   "execution_count": null,
   "metadata": {},
   "outputs": [],
   "source": []
  }
 ],
 "metadata": {
  "environment": {
   "name": "tf2-gpu.2-1.m55",
   "type": "gcloud",
   "uri": "gcr.io/deeplearning-platform-release/tf2-gpu.2-1:m55"
  },
  "kernelspec": {
   "display_name": "Python 3",
   "language": "python",
   "name": "python3"
  },
  "language_info": {
   "codemirror_mode": {
    "name": "ipython",
    "version": 3
   },
   "file_extension": ".py",
   "mimetype": "text/x-python",
   "name": "python",
   "nbconvert_exporter": "python",
   "pygments_lexer": "ipython3",
   "version": "3.7.8"
  }
 },
 "nbformat": 4,
 "nbformat_minor": 4
}
