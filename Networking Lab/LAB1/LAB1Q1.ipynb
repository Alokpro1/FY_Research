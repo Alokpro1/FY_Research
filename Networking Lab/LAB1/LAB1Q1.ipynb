{
 "cells": [
  {
   "cell_type": "code",
   "execution_count": 5,
   "metadata": {},
   "outputs": [
    {
     "name": "stdout",
     "output_type": "stream",
     "text": [
      "Host name: tensorflow-2-1-20200916-184137\n",
      "IP address: 10.138.0.3\n"
     ]
    }
   ],
   "source": [
    "import socket\n",
    "\n",
    "def machine_info():\n",
    "    host = socket.gethostname()\n",
    "    ip = socket.gethostbyname(host)\n",
    "    print(\"Host name:\",host)\n",
    "    print(\"IP address:\",ip)\n",
    "\n",
    "if __name__ == '__main__':\n",
    "    machine_info()"
   ]
  },
  {
   "cell_type": "code",
   "execution_count": null,
   "metadata": {},
   "outputs": [],
   "source": []
  }
 ],
 "metadata": {
  "environment": {
   "name": "tf2-gpu.2-1.m55",
   "type": "gcloud",
   "uri": "gcr.io/deeplearning-platform-release/tf2-gpu.2-1:m55"
  },
  "kernelspec": {
   "display_name": "Python 3",
   "language": "python",
   "name": "python3"
  },
  "language_info": {
   "codemirror_mode": {
    "name": "ipython",
    "version": 3
   },
   "file_extension": ".py",
   "mimetype": "text/x-python",
   "name": "python",
   "nbconvert_exporter": "python",
   "pygments_lexer": "ipython3",
   "version": "3.7.8"
  }
 },
 "nbformat": 4,
 "nbformat_minor": 4
}
