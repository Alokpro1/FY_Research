{
 "cells": [
  {
   "cell_type": "code",
   "execution_count": 4,
   "metadata": {},
   "outputs": [
    {
     "name": "stdout",
     "output_type": "stream",
     "text": [
      "Socket's original default timeout: 100.0\n",
      "Socket's new default timeout: 100.0\n"
     ]
    }
   ],
   "source": [
    "import socket\n",
    "\n",
    "def timeout():\n",
    "    print (f\"Socket's original default timeout: {socket.getdefaulttimeout()}\")\n",
    "\n",
    "    try:\n",
    "        socket.setdefaulttimeout(100.0)\n",
    "    except socket.error as error:\n",
    "        print (f\"Error occured : {error}\")\n",
    "\n",
    "    print (f\"Socket's new default timeout: {socket.getdefaulttimeout()}\")\n",
    "    \n",
    "if __name__ == '__main__':\n",
    "    timeout()"
   ]
  },
  {
   "cell_type": "code",
   "execution_count": null,
   "metadata": {},
   "outputs": [],
   "source": []
  }
 ],
 "metadata": {
  "environment": {
   "name": "tf2-gpu.2-1.m55",
   "type": "gcloud",
   "uri": "gcr.io/deeplearning-platform-release/tf2-gpu.2-1:m55"
  },
  "kernelspec": {
   "display_name": "Python 3",
   "language": "python",
   "name": "python3"
  },
  "language_info": {
   "codemirror_mode": {
    "name": "ipython",
    "version": 3
   },
   "file_extension": ".py",
   "mimetype": "text/x-python",
   "name": "python",
   "nbconvert_exporter": "python",
   "pygments_lexer": "ipython3",
   "version": "3.7.8"
  }
 },
 "nbformat": 4,
 "nbformat_minor": 4
}
