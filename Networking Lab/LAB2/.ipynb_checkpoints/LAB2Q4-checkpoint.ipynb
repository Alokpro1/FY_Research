{
 "cells": [
  {
   "cell_type": "code",
   "execution_count": 28,
   "metadata": {},
   "outputs": [
    {
     "name": "stdout",
     "output_type": "stream",
     "text": [
      "Port   service name   protocol\n",
      "80     http           tcp\n",
      "25     smtp           tcp\n",
      "70     gopher           tcp\n",
      "53     domain           udp\n",
      "111     sunrpc           udp\n",
      "135     loc-srv           udp\n"
     ]
    }
   ],
   "source": [
    "import socket \n",
    " \n",
    "def find_service_name(): \n",
    "    protocol = 'tcp'\n",
    "    print(\"Port   service name   protocol\")\n",
    "    for port in [80,25,70]: \n",
    "        print(port,\"   \",socket.getservbyport(port, protocol),\"         \",protocol)\n",
    "    protocol = 'udp'\n",
    "    for port in [53,111,135]: \n",
    "        print(port,\"   \",socket.getservbyport(port, protocol),\"         \",protocol)\n",
    "if __name__ == '__main__': \n",
    "    find_service_name() "
   ]
  }
 ],
 "metadata": {
  "environment": {
   "name": "tf2-gpu.2-1.m55",
   "type": "gcloud",
   "uri": "gcr.io/deeplearning-platform-release/tf2-gpu.2-1:m55"
  },
  "kernelspec": {
   "display_name": "Python 3",
   "language": "python",
   "name": "python3"
  },
  "language_info": {
   "codemirror_mode": {
    "name": "ipython",
    "version": 3
   },
   "file_extension": ".py",
   "mimetype": "text/x-python",
   "name": "python",
   "nbconvert_exporter": "python",
   "pygments_lexer": "ipython3",
   "version": "3.7.8"
  }
 },
 "nbformat": 4,
 "nbformat_minor": 4
}
