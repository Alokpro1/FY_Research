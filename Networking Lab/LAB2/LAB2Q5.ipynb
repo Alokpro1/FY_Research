{
 "cells": [
  {
   "cell_type": "code",
   "execution_count": 11,
   "metadata": {},
   "outputs": [
    {
     "name": "stdout",
     "output_type": "stream",
     "text": [
      "Tue Dec 22 07:46:12 2020\n"
     ]
    }
   ],
   "source": [
    "import ntplib\n",
    "import socket\n",
    "import struct\n",
    "import sys\n",
    "from time import ctime\n",
    "    \n",
    "    \n",
    "def ptime():\n",
    "    ntp_cl = ntplib.NTPClient()\n",
    "    response = ntp_cl.request('pool.ntp.org')\n",
    "    print (ctime(response.tx_time))\n",
    "    \n",
    "    \n",
    "if __name__ == '__main__':\n",
    "    ptime()"
   ]
  },
  {
   "cell_type": "code",
   "execution_count": 13,
   "metadata": {},
   "outputs": [
    {
     "name": "stdout",
     "output_type": "stream",
     "text": [
      "Response received from: ('162.159.200.123', 123)\n",
      "\tTime=Tue Dec 22 07:47:25 2020\n"
     ]
    }
   ],
   "source": [
    "    \n",
    "    \n",
    "    \n",
    "    NTP_SERVER = \"0.uk.pool.ntp.org\"\n",
    "    TIME1970 = 2208988800\n",
    "    \n",
    "    def sntp():\n",
    "        client = socket.socket( socket.AF_INET, \n",
    "                            socket.SOCK_DGRAM )\n",
    "        data = '\\x1b' + 47 * '\\0'\n",
    "        client.sendto( data.encode('utf-8'),\n",
    "                         ( NTP_SERVER, 123 ))\n",
    "        data, addr = client.recvfrom( 1024 )\n",
    "        if data:\n",
    "            print ('Response received from:', addr)\n",
    "        t = struct.unpack( '!12I', data )[10]\n",
    "        t -= TIME1970\n",
    "        print ('\\tTime=%s' % time.ctime(t))\n",
    "    \n",
    "    \n",
    "    if __name__ == '__main__':\n",
    "        sntp()"
   ]
  },
  {
   "cell_type": "code",
   "execution_count": null,
   "metadata": {},
   "outputs": [],
   "source": []
  }
 ],
 "metadata": {
  "environment": {
   "name": "tf2-gpu.2-1.m55",
   "type": "gcloud",
   "uri": "gcr.io/deeplearning-platform-release/tf2-gpu.2-1:m55"
  },
  "kernelspec": {
   "display_name": "Python 3",
   "language": "python",
   "name": "python3"
  },
  "language_info": {
   "codemirror_mode": {
    "name": "ipython",
    "version": 3
   },
   "file_extension": ".py",
   "mimetype": "text/x-python",
   "name": "python",
   "nbconvert_exporter": "python",
   "pygments_lexer": "ipython3",
   "version": "3.7.8"
  }
 },
 "nbformat": 4,
 "nbformat_minor": 4
}
