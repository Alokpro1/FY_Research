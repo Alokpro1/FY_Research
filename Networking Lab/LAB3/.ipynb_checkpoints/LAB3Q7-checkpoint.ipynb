{
 "cells": [
  {
   "cell_type": "code",
   "execution_count": null,
   "metadata": {},
   "outputs": [
    {
     "name": "stdout",
     "output_type": "stream",
     "text": [
      "Old sock state:  0\n",
      "New sock state:  1\n",
      "Listening on port:  8282\n"
     ]
    }
   ],
   "source": [
    "import socket\n",
    "import sys\n",
    "\n",
    "def reuse_addr():\n",
    "    sock = socket.socket( socket.AF_INET, socket.SOCK_STREAM )\n",
    "\n",
    "    prev_state = sock.getsockopt(socket.SOL_SOCKET, socket.SO_REUSEADDR )\n",
    "    print(\"Old sock state: \",prev_state)\n",
    "\n",
    "    sock.setsockopt( socket.SOL_SOCKET, socket.SO_REUSEADDR, 1 )\n",
    "    new_state = sock.getsockopt( socket.SOL_SOCKET, socket.SO_REUSEADDR )\n",
    "    print(\"New sock state: \",new_state)\n",
    "    \n",
    "    local_port = 8282\n",
    "    \n",
    "    srv = socket.socket(socket.AF_INET, socket.SOCK_STREAM)\n",
    "    srv.setsockopt(socket.SOL_SOCKET, socket.SO_REUSEADDR, 1)\n",
    "    srv.bind( ('', local_port) )\n",
    "    srv.listen(1)\n",
    "    print(\"Listening on port: \",local_port)\n",
    "    while True:\n",
    "        try:\n",
    "            connection, addr = srv.accept()\n",
    "            print ('Connected by :',addr[0], addr[1])\n",
    "        except KeyboardInterrupt:\n",
    "            break\n",
    "        except socket.error as msg:\n",
    "            print('%s',msg)\n",
    "    return\n",
    "if __name__ == '__main__':\n",
    "    reuse_addr()"
   ]
  },
  {
   "cell_type": "code",
   "execution_count": null,
   "metadata": {},
   "outputs": [],
   "source": []
  }
 ],
 "metadata": {
  "environment": {
   "name": "tf2-gpu.2-1.m55",
   "type": "gcloud",
   "uri": "gcr.io/deeplearning-platform-release/tf2-gpu.2-1:m55"
  },
  "kernelspec": {
   "display_name": "Python 3",
   "language": "python",
   "name": "python3"
  },
  "language_info": {
   "codemirror_mode": {
    "name": "ipython",
    "version": 3
   },
   "file_extension": ".py",
   "mimetype": "text/x-python",
   "name": "python",
   "nbconvert_exporter": "python",
   "pygments_lexer": "ipython3",
   "version": "3.7.8"
  }
 },
 "nbformat": 4,
 "nbformat_minor": 4
}
