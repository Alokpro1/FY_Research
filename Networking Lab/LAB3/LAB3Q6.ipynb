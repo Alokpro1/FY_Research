{
 "cells": [
  {
   "cell_type": "code",
   "execution_count": 1,
   "metadata": {},
   "outputs": [
    {
     "name": "stdout",
     "output_type": "stream",
     "text": [
      "Buffer size [Before]:  16384\n",
      "Buffer size [After]:  4608\n"
     ]
    }
   ],
   "source": [
    "import socket \n",
    " \n",
    "SEND_BUF_SIZE = 1096 \n",
    "RECV_BUF_SIZE = 2048 \n",
    " \n",
    "def modify_buffer_size(): \n",
    "    sock = socket.socket( socket.AF_INET, socket.SOCK_STREAM ) \n",
    "      \n",
    "    buffersize = sock.getsockopt(socket.SOL_SOCKET, socket.SO_SNDBUF) \n",
    "    print (\"Buffer size [Before]: \",buffersize) \n",
    "     \n",
    "    sock.setsockopt(socket.SOL_TCP, \n",
    "                     socket.TCP_NODELAY, 1) \n",
    "    sock.setsockopt( \n",
    "            socket.SOL_SOCKET, \n",
    "            socket.SO_SNDBUF, \n",
    "            SEND_BUF_SIZE)\n",
    "    sock.setsockopt( \n",
    "            socket.SOL_SOCKET, \n",
    "            socket.SO_RCVBUF, \n",
    "            RECV_BUF_SIZE) \n",
    "    buffersize = sock.getsockopt(socket.SOL_SOCKET, socket.SO_SNDBUF) \n",
    "    print (\"Buffer size [After]: \",buffersize) \n",
    " \n",
    "if __name__ == '__main__': \n",
    "    modify_buffer_size() "
   ]
  },
  {
   "cell_type": "code",
   "execution_count": null,
   "metadata": {},
   "outputs": [
    {
     "name": "stdout",
     "output_type": "stream",
     "text": [
      "Server launched on socket:  ('127.0.0.1', 42719)\n"
     ]
    }
   ],
   "source": [
    "def socket_modes():\n",
    "    s = socket.socket(socket.AF_INET, socket.SOCK_STREAM)\n",
    "    s.setblocking(0)\n",
    "    s.settimeout(0.5)\n",
    "    s.bind((\"127.0.0.1\", 0))\n",
    "    \n",
    "    socket_address = s.getsockname()\n",
    "    print(\"Server launched on socket: \",socket_address)\n",
    "    while(1):\n",
    "        s.listen(1)\n",
    "\n",
    "if __name__ == '__main__':\n",
    "    socket_modes()"
   ]
  },
  {
   "cell_type": "code",
   "execution_count": null,
   "metadata": {},
   "outputs": [],
   "source": []
  }
 ],
 "metadata": {
  "environment": {
   "name": "tf2-gpu.2-1.m55",
   "type": "gcloud",
   "uri": "gcr.io/deeplearning-platform-release/tf2-gpu.2-1:m55"
  },
  "kernelspec": {
   "display_name": "Python 3",
   "language": "python",
   "name": "python3"
  },
  "language_info": {
   "codemirror_mode": {
    "name": "ipython",
    "version": 3
   },
   "file_extension": ".py",
   "mimetype": "text/x-python",
   "name": "python",
   "nbconvert_exporter": "python",
   "pygments_lexer": "ipython3",
   "version": "3.7.8"
  }
 },
 "nbformat": 4,
 "nbformat_minor": 4
}
