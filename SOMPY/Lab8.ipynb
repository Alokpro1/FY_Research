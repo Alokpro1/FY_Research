{
 "cells": [
  {
   "cell_type": "code",
   "execution_count": 12,
   "metadata": {},
   "outputs": [
    {
     "ename": "ModuleNotFoundError",
     "evalue": "No module named 'sompy'",
     "output_type": "error",
     "traceback": [
      "\u001b[0;31m---------------------------------------------------------------------------\u001b[0m",
      "\u001b[0;31mModuleNotFoundError\u001b[0m                       Traceback (most recent call last)",
      "\u001b[0;32m<ipython-input-12-026d7ea4d004>\u001b[0m in \u001b[0;36m<module>\u001b[0;34m\u001b[0m\n\u001b[1;32m      1\u001b[0m \u001b[0;32mimport\u001b[0m \u001b[0mnumpy\u001b[0m \u001b[0;32mas\u001b[0m \u001b[0mnp\u001b[0m\u001b[0;34m\u001b[0m\u001b[0;34m\u001b[0m\u001b[0m\n\u001b[1;32m      2\u001b[0m \u001b[0;32mimport\u001b[0m \u001b[0mpandas\u001b[0m \u001b[0;32mas\u001b[0m \u001b[0mpd\u001b[0m\u001b[0;34m\u001b[0m\u001b[0;34m\u001b[0m\u001b[0m\n\u001b[0;32m----> 3\u001b[0;31m \u001b[0;32mfrom\u001b[0m \u001b[0msompy\u001b[0m\u001b[0;34m.\u001b[0m\u001b[0msompy\u001b[0m \u001b[0;32mimport\u001b[0m \u001b[0mSOMFactory\u001b[0m\u001b[0;34m\u001b[0m\u001b[0;34m\u001b[0m\u001b[0m\n\u001b[0m",
      "\u001b[0;31mModuleNotFoundError\u001b[0m: No module named 'sompy'"
     ]
    }
   ],
   "source": [
    "import numpy as np\n",
    "import pandas as pd\n",
    "from sompy.sompy import SOMFactory\n"
   ]
  },
  {
   "cell_type": "code",
   "execution_count": 2,
   "metadata": {},
   "outputs": [
    {
     "name": "stdout",
     "output_type": "stream",
     "text": [
      "\u001b[0m\u001b[01;34mbuild\u001b[0m/  en_climate_summaries_BC_01-2020.csv  ques1.py         \u001b[01;34mSOMPY-master\u001b[0m/\n",
      "\u001b[01;34mdist\u001b[0m/   Lab8.ipynb                           \u001b[01;34mSOMPY.egg-info\u001b[0m/  SOMPY-master.zip\n"
     ]
    }
   ],
   "source": [
    "ls\n"
   ]
  },
  {
   "cell_type": "code",
   "execution_count": 11,
   "metadata": {},
   "outputs": [
    {
     "name": "stdout",
     "output_type": "stream",
     "text": [
      "running install\n",
      "running bdist_egg\n",
      "running egg_info\n",
      "writing SOMPY.egg-info/PKG-INFO\n",
      "writing dependency_links to SOMPY.egg-info/dependency_links.txt\n",
      "writing requirements to SOMPY.egg-info/requires.txt\n",
      "writing top-level names to SOMPY.egg-info/top_level.txt\n",
      "reading manifest file 'SOMPY.egg-info/SOURCES.txt'\n",
      "writing manifest file 'SOMPY.egg-info/SOURCES.txt'\n",
      "installing library code to build/bdist.linux-x86_64/egg\n",
      "running install_lib\n",
      "warning: install_lib: 'build/lib' does not exist -- no Python modules to install\n",
      "\n",
      "creating build/bdist.linux-x86_64/egg\n",
      "creating build/bdist.linux-x86_64/egg/EGG-INFO\n",
      "copying SOMPY.egg-info/PKG-INFO -> build/bdist.linux-x86_64/egg/EGG-INFO\n",
      "copying SOMPY.egg-info/SOURCES.txt -> build/bdist.linux-x86_64/egg/EGG-INFO\n",
      "copying SOMPY.egg-info/dependency_links.txt -> build/bdist.linux-x86_64/egg/EGG-INFO\n",
      "copying SOMPY.egg-info/requires.txt -> build/bdist.linux-x86_64/egg/EGG-INFO\n",
      "copying SOMPY.egg-info/top_level.txt -> build/bdist.linux-x86_64/egg/EGG-INFO\n",
      "zip_safe flag not set; analyzing archive contents...\n",
      "creating 'dist/SOMPY-1.1.1-py3.7.egg' and adding 'build/bdist.linux-x86_64/egg' to it\n",
      "removing 'build/bdist.linux-x86_64/egg' (and everything under it)\n",
      "Processing SOMPY-1.1.1-py3.7.egg\n",
      "Removing /opt/conda/lib/python3.7/site-packages/SOMPY-1.1.1-py3.7.egg\n",
      "Copying SOMPY-1.1.1-py3.7.egg to /opt/conda/lib/python3.7/site-packages\n",
      "SOMPY 1.1.1 is already the active version in easy-install.pth\n",
      "\n",
      "Installed /opt/conda/lib/python3.7/site-packages/SOMPY-1.1.1-py3.7.egg\n",
      "Processing dependencies for SOMPY==1.1.1\n",
      "Searching for numexpr==2.7.1\n",
      "Best match: numexpr 2.7.1\n",
      "Adding numexpr 2.7.1 to easy-install.pth file\n",
      "\n",
      "Using /opt/conda/lib/python3.7/site-packages\n",
      "Searching for scikit-learn==0.23.2\n",
      "Best match: scikit-learn 0.23.2\n",
      "Adding scikit-learn 0.23.2 to easy-install.pth file\n",
      "\n",
      "Using /opt/conda/lib/python3.7/site-packages\n",
      "Searching for scipy==1.5.2\n",
      "Best match: scipy 1.5.2\n",
      "Adding scipy 1.5.2 to easy-install.pth file\n",
      "\n",
      "Using /opt/conda/lib/python3.7/site-packages\n",
      "Searching for numpy==1.19.1\n",
      "Best match: numpy 1.19.1\n",
      "Adding numpy 1.19.1 to easy-install.pth file\n",
      "Installing f2py script to /opt/conda/bin\n",
      "Installing f2py3 script to /opt/conda/bin\n",
      "Installing f2py3.7 script to /opt/conda/bin\n",
      "\n",
      "Using /opt/conda/lib/python3.7/site-packages\n",
      "Searching for joblib==0.16.0\n",
      "Best match: joblib 0.16.0\n",
      "Adding joblib 0.16.0 to easy-install.pth file\n",
      "\n",
      "Using /opt/conda/lib/python3.7/site-packages\n",
      "Searching for threadpoolctl==2.1.0\n",
      "Best match: threadpoolctl 2.1.0\n",
      "Adding threadpoolctl 2.1.0 to easy-install.pth file\n",
      "\n",
      "Using /opt/conda/lib/python3.7/site-packages\n",
      "Finished processing dependencies for SOMPY==1.1.1\n"
     ]
    }
   ],
   "source": [
    "!python SOMPY-master/setup.py install\n"
   ]
  },
  {
   "cell_type": "code",
   "execution_count": null,
   "metadata": {},
   "outputs": [],
   "source": []
  }
 ],
 "metadata": {
  "environment": {
   "name": "tf2-gpu.2-1.m55",
   "type": "gcloud",
   "uri": "gcr.io/deeplearning-platform-release/tf2-gpu.2-1:m55"
  },
  "kernelspec": {
   "display_name": "Python 3",
   "language": "python",
   "name": "python3"
  },
  "language_info": {
   "codemirror_mode": {
    "name": "ipython",
    "version": 3
   },
   "file_extension": ".py",
   "mimetype": "text/x-python",
   "name": "python",
   "nbconvert_exporter": "python",
   "pygments_lexer": "ipython3",
   "version": "3.7.8"
  }
 },
 "nbformat": 4,
 "nbformat_minor": 4
}
