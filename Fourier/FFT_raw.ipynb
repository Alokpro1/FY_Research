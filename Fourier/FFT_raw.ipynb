{
 "cells": [
  {
   "cell_type": "code",
   "execution_count": 1,
   "metadata": {},
   "outputs": [],
   "source": [
    "# loading needed methods\n",
    "import warnings\n",
    "warnings.filterwarnings(\"ignore\")\n",
    "\n",
    "\n",
    "import pandas as pd\n",
    "import numpy as np\n",
    "import matplotlib.pyplot as plt\n",
    "%matplotlib inline\n",
    "import matplotlib.cm as cm\n",
    "\n",
    "from scipy.fft import fft,dst\n",
    "from random import seed,sample\n",
    "from sklearn.model_selection import train_test_split\n",
    "from sklearn.preprocessing import StandardScaler\n",
    "from sklearn.neural_network import MLPClassifier\n",
    "from sklearn.metrics import classification_report,confusion_matrix,accuracy_score, roc_curve, auc,\\\n",
    "precision_score\n",
    "import tensorflow.keras as keras\n",
    "from tensorflow.keras.callbacks import EarlyStopping, ModelCheckpoint, LearningRateScheduler\n",
    "\n"
   ]
  },
  {
   "cell_type": "code",
   "execution_count": 2,
   "metadata": {},
   "outputs": [],
   "source": [
    "dataset = pd.read_csv('../input/Fraud/Fourier/Xfft.csv') # unchanged dataset1"
   ]
  },
  {
   "cell_type": "code",
   "execution_count": 3,
   "metadata": {},
   "outputs": [
    {
     "data": {
      "text/html": [
       "<div>\n",
       "<style scoped>\n",
       "    .dataframe tbody tr th:only-of-type {\n",
       "        vertical-align: middle;\n",
       "    }\n",
       "\n",
       "    .dataframe tbody tr th {\n",
       "        vertical-align: top;\n",
       "    }\n",
       "\n",
       "    .dataframe thead th {\n",
       "        text-align: right;\n",
       "    }\n",
       "</style>\n",
       "<table border=\"1\" class=\"dataframe\">\n",
       "  <thead>\n",
       "    <tr style=\"text-align: right;\">\n",
       "      <th></th>\n",
       "      <th>Unnamed: 0</th>\n",
       "      <th>0</th>\n",
       "      <th>1</th>\n",
       "      <th>2</th>\n",
       "      <th>3</th>\n",
       "      <th>4</th>\n",
       "      <th>5</th>\n",
       "      <th>6</th>\n",
       "      <th>7</th>\n",
       "      <th>8</th>\n",
       "      <th>9</th>\n",
       "      <th>10</th>\n",
       "      <th>isFraud</th>\n",
       "    </tr>\n",
       "  </thead>\n",
       "  <tbody>\n",
       "    <tr>\n",
       "      <th>0</th>\n",
       "      <td>0</td>\n",
       "      <td>546.00</td>\n",
       "      <td>1.663081e+02</td>\n",
       "      <td>4.848475e+02</td>\n",
       "      <td>5.494874e+01</td>\n",
       "      <td>3.306109e+02</td>\n",
       "      <td>1.282832e+02</td>\n",
       "      <td>1.282832e+02</td>\n",
       "      <td>3.306109e+02</td>\n",
       "      <td>5.494874e+01</td>\n",
       "      <td>4.848475e+02</td>\n",
       "      <td>1.663081e+02</td>\n",
       "      <td>1</td>\n",
       "    </tr>\n",
       "    <tr>\n",
       "      <th>1</th>\n",
       "      <td>1</td>\n",
       "      <td>42910.00</td>\n",
       "      <td>2.763260e+04</td>\n",
       "      <td>6.117608e+03</td>\n",
       "      <td>3.559217e+04</td>\n",
       "      <td>4.096432e+04</td>\n",
       "      <td>1.765401e+04</td>\n",
       "      <td>1.765401e+04</td>\n",
       "      <td>4.096432e+04</td>\n",
       "      <td>3.559217e+04</td>\n",
       "      <td>6.117608e+03</td>\n",
       "      <td>2.763260e+04</td>\n",
       "      <td>1</td>\n",
       "    </tr>\n",
       "    <tr>\n",
       "      <th>2</th>\n",
       "      <td>2</td>\n",
       "      <td>697570.82</td>\n",
       "      <td>1.833313e+05</td>\n",
       "      <td>5.595976e+05</td>\n",
       "      <td>6.320053e+04</td>\n",
       "      <td>3.386644e+05</td>\n",
       "      <td>1.762473e+05</td>\n",
       "      <td>1.762473e+05</td>\n",
       "      <td>3.386644e+05</td>\n",
       "      <td>6.320053e+04</td>\n",
       "      <td>5.595976e+05</td>\n",
       "      <td>1.833313e+05</td>\n",
       "      <td>0</td>\n",
       "    </tr>\n",
       "    <tr>\n",
       "      <th>3</th>\n",
       "      <td>3</td>\n",
       "      <td>690783.90</td>\n",
       "      <td>2.218870e+05</td>\n",
       "      <td>5.746598e+05</td>\n",
       "      <td>8.076300e+04</td>\n",
       "      <td>4.229654e+05</td>\n",
       "      <td>1.356959e+05</td>\n",
       "      <td>1.356959e+05</td>\n",
       "      <td>4.229654e+05</td>\n",
       "      <td>8.076300e+04</td>\n",
       "      <td>5.746598e+05</td>\n",
       "      <td>2.218870e+05</td>\n",
       "      <td>0</td>\n",
       "    </tr>\n",
       "    <tr>\n",
       "      <th>4</th>\n",
       "      <td>4</td>\n",
       "      <td>947594.67</td>\n",
       "      <td>2.882181e+06</td>\n",
       "      <td>4.535886e+06</td>\n",
       "      <td>5.308203e+06</td>\n",
       "      <td>3.589263e+06</td>\n",
       "      <td>1.738284e+06</td>\n",
       "      <td>1.738284e+06</td>\n",
       "      <td>3.589263e+06</td>\n",
       "      <td>5.308203e+06</td>\n",
       "      <td>4.535886e+06</td>\n",
       "      <td>2.882181e+06</td>\n",
       "      <td>0</td>\n",
       "    </tr>\n",
       "  </tbody>\n",
       "</table>\n",
       "</div>"
      ],
      "text/plain": [
       "   Unnamed: 0          0             1             2             3  \\\n",
       "0           0     546.00  1.663081e+02  4.848475e+02  5.494874e+01   \n",
       "1           1   42910.00  2.763260e+04  6.117608e+03  3.559217e+04   \n",
       "2           2  697570.82  1.833313e+05  5.595976e+05  6.320053e+04   \n",
       "3           3  690783.90  2.218870e+05  5.746598e+05  8.076300e+04   \n",
       "4           4  947594.67  2.882181e+06  4.535886e+06  5.308203e+06   \n",
       "\n",
       "              4             5             6             7             8  \\\n",
       "0  3.306109e+02  1.282832e+02  1.282832e+02  3.306109e+02  5.494874e+01   \n",
       "1  4.096432e+04  1.765401e+04  1.765401e+04  4.096432e+04  3.559217e+04   \n",
       "2  3.386644e+05  1.762473e+05  1.762473e+05  3.386644e+05  6.320053e+04   \n",
       "3  4.229654e+05  1.356959e+05  1.356959e+05  4.229654e+05  8.076300e+04   \n",
       "4  3.589263e+06  1.738284e+06  1.738284e+06  3.589263e+06  5.308203e+06   \n",
       "\n",
       "              9            10  isFraud  \n",
       "0  4.848475e+02  1.663081e+02        1  \n",
       "1  6.117608e+03  2.763260e+04        1  \n",
       "2  5.595976e+05  1.833313e+05        0  \n",
       "3  5.746598e+05  2.218870e+05        0  \n",
       "4  4.535886e+06  2.882181e+06        0  "
      ]
     },
     "execution_count": 3,
     "metadata": {},
     "output_type": "execute_result"
    }
   ],
   "source": [
    "dataset.head()"
   ]
  },
  {
   "cell_type": "code",
   "execution_count": 4,
   "metadata": {},
   "outputs": [],
   "source": [
    "dataset = dataset.drop('Unnamed: 0', axis=1)"
   ]
  },
  {
   "cell_type": "code",
   "execution_count": 5,
   "metadata": {},
   "outputs": [],
   "source": [
    "X = dataset.drop(\"isFraud\",1)\n",
    "y = dataset.isFraud"
   ]
  },
  {
   "cell_type": "code",
   "execution_count": 6,
   "metadata": {},
   "outputs": [],
   "source": [
    "def getCosine(v1,v2):\n",
    "    rad = np.dot(v1,v2)/(np.linalg.norm(v1)*np.linalg.norm(v2))\n",
    "    return math.cos(rad)"
   ]
  },
  {
   "cell_type": "code",
   "execution_count": 7,
   "metadata": {},
   "outputs": [
    {
     "name": "stdout",
     "output_type": "stream",
     "text": [
      "[(0, 8213), (1, 8213)]\n"
     ]
    }
   ],
   "source": [
    "from imblearn.under_sampling import NearMiss\n",
    "from collections import Counter\n",
    "nm1 = NearMiss(version=1)\n",
    "X_resampled_nm1, y_resampled = nm1.fit_resample(X, y)\n",
    "print(sorted(Counter(y_resampled).items()))\n"
   ]
  },
  {
   "cell_type": "code",
   "execution_count": 8,
   "metadata": {},
   "outputs": [],
   "source": [
    "import math"
   ]
  },
  {
   "cell_type": "code",
   "execution_count": 9,
   "metadata": {},
   "outputs": [],
   "source": [
    "def cal_alpha(X):\n",
    "    sum_cos = 0\n",
    "    map_ang = []\n",
    "    for t1 in X:\n",
    "        ang = 0\n",
    "        for t2 in X:\n",
    "            cos = getCosine(t1,t2)\n",
    "            ang = ang + cos\n",
    "            \n",
    "        map_ang.append(ang/len(X))\n",
    "        sum_cos = sum_cos + ang/len(X)\n",
    "            \n",
    "    alpha = sum_cos/len(X)\n",
    "    \n",
    "    return alpha,map_ang"
   ]
  },
  {
   "cell_type": "code",
   "execution_count": 10,
   "metadata": {},
   "outputs": [],
   "source": [
    "RandomState = 42\n",
    "seed(21)\n",
    "\n",
    "X_train, X_test, y_train, y_test = train_test_split(X_resampled_nm1, y_resampled, test_size=0.2, random_state=42)\n",
    "scaler = StandardScaler()\n",
    "scaler.fit(X_train)\n",
    "X_train = scaler.transform(X_train)\n",
    "X_test = scaler.transform(X_test)"
   ]
  },
  {
   "cell_type": "code",
   "execution_count": 11,
   "metadata": {},
   "outputs": [],
   "source": [
    "X_0 = X_train[y_train==0]\n",
    "y_0 = y_train[y_train==0]"
   ]
  },
  {
   "cell_type": "code",
   "execution_count": 12,
   "metadata": {},
   "outputs": [],
   "source": [
    "a,b=cal_alpha(np.array(X_0))"
   ]
  },
  {
   "cell_type": "code",
   "execution_count": 13,
   "metadata": {},
   "outputs": [
    {
     "data": {
      "text/plain": [
       "6564"
      ]
     },
     "execution_count": 13,
     "metadata": {},
     "output_type": "execute_result"
    }
   ],
   "source": [
    "len(np.array(b))"
   ]
  },
  {
   "cell_type": "code",
   "execution_count": 14,
   "metadata": {},
   "outputs": [
    {
     "data": {
      "text/plain": [
       "0.5413846485216163"
      ]
     },
     "execution_count": 14,
     "metadata": {},
     "output_type": "execute_result"
    }
   ],
   "source": [
    "a"
   ]
  },
  {
   "cell_type": "code",
   "execution_count": 15,
   "metadata": {},
   "outputs": [],
   "source": [
    "xis=len(b)\n",
    "xi=np.arange(0,xis,1)"
   ]
  },
  {
   "cell_type": "code",
   "execution_count": 16,
   "metadata": {},
   "outputs": [
    {
     "data": {
      "text/plain": [
       "True"
      ]
     },
     "execution_count": 16,
     "metadata": {},
     "output_type": "execute_result"
    }
   ],
   "source": [
    "len(xi)==len(b)"
   ]
  },
  {
   "cell_type": "code",
   "execution_count": 17,
   "metadata": {},
   "outputs": [
    {
     "data": {
      "image/png": "[encoded data removed]",
      "text/plain": [
       "<Figure size 432x288 with 1 Axes>"
      ]
     },
     "metadata": {
      "needs_background": "light"
     },
     "output_type": "display_data"
    }
   ],
   "source": [
    "plt.plot(xi,b,'ro')\n",
    "plt.ylabel('Angel')\n",
    "plt.show()"
   ]
  },
  {
   "cell_type": "code",
   "execution_count": 18,
   "metadata": {},
   "outputs": [
    {
     "data": {
      "text/plain": [
       "1649"
      ]
     },
     "execution_count": 18,
     "metadata": {},
     "output_type": "execute_result"
    }
   ],
   "source": [
    "len(X_test[y_test==0])"
   ]
  },
  {
   "cell_type": "code",
   "execution_count": 19,
   "metadata": {},
   "outputs": [],
   "source": [
    "def fit(X_test,X_train,y_train,alpha):\n",
    "    y=[]\n",
    "    for t in X_test:\n",
    "        y.append(dct_eval(X_train,t,alpha))\n",
    "    return y"
   ]
  },
  {
   "cell_type": "code",
   "execution_count": 20,
   "metadata": {},
   "outputs": [],
   "source": [
    "def dct_eval(X_train,X,alpha):\n",
    "    cos=0\n",
    "    for T in X_train:\n",
    "        cos = cos + getCosine(X,T)\n",
    "    avg = cos/len(X_train)\n",
    "    if avg < alpha:\n",
    "        return 0\n",
    "    else:\n",
    "        return 1"
   ]
  },
  {
   "cell_type": "code",
   "execution_count": 21,
   "metadata": {},
   "outputs": [],
   "source": [
    "y_pred = fit(X_test,X_0,y_train,a)"
   ]
  },
  {
   "cell_type": "code",
   "execution_count": 22,
   "metadata": {},
   "outputs": [],
   "source": [
    "def rel(y_test,y_pred):\n",
    "    predictionsRFR=np.array(y_pred,dtype='int') \n",
    "    CM_RFR = confusion_matrix(y_test,predictionsRFR)\n",
    "    CR_RFR = classification_report(y_test,predictionsRFR)\n",
    "    fprRFR, recallRFR, thresholdsRFR = roc_curve(y_test, predictionsRFR)\n",
    "    AUC_RFR = auc(fprRFR, recallRFR)\n",
    "    print(\"=============<>==================\\n\")\n",
    "    resultsRFR = {\"Confusion Matrix\":CM_RFR,\"Classification Report\":CR_RFR,\"Area Under Curve\":AUC_RFR}\n",
    "    for measure in resultsRFR:\n",
    "        print(measure,\": \\n\",resultsRFR[measure])\n",
    "    print(\"=============<>==================\\n\")"
   ]
  },
  {
   "cell_type": "code",
   "execution_count": 23,
   "metadata": {},
   "outputs": [
    {
     "name": "stdout",
     "output_type": "stream",
     "text": [
      "=============<>==================\n",
      "\n",
      "Confusion Matrix : \n",
      " [[1484  165]\n",
      " [ 217 1420]]\n",
      "Classification Report : \n",
      "               precision    recall  f1-score   support\n",
      "\n",
      "           0       0.87      0.90      0.89      1649\n",
      "           1       0.90      0.87      0.88      1637\n",
      "\n",
      "    accuracy                           0.88      3286\n",
      "   macro avg       0.88      0.88      0.88      3286\n",
      "weighted avg       0.88      0.88      0.88      3286\n",
      "\n",
      "Area Under Curve : \n",
      " 0.8836898985075644\n",
      "=============<>==================\n",
      "\n"
     ]
    }
   ],
   "source": [
    "rel(y_test,y_pred)"
   ]
  },
  {
   "cell_type": "code",
   "execution_count": 24,
   "metadata": {},
   "outputs": [],
   "source": [
    "X_1 = X_train[y_train==1]\n",
    "y_1 = y_train[y_train==1]"
   ]
  },
  {
   "cell_type": "code",
   "execution_count": 25,
   "metadata": {},
   "outputs": [],
   "source": [
    "a1,b1=cal_alpha(np.array(X_1))"
   ]
  },
  {
   "cell_type": "code",
   "execution_count": 26,
   "metadata": {},
   "outputs": [],
   "source": [
    "xys=len(b1)\n",
    "xi1=np.arange(0,xys,1)"
   ]
  },
  {
   "cell_type": "code",
   "execution_count": 27,
   "metadata": {},
   "outputs": [
    {
     "data": {
      "image/png": "[encoded data removed]",
      "text/plain": [
       "<Figure size 432x288 with 1 Axes>"
      ]
     },
     "metadata": {
      "needs_background": "light"
     },
     "output_type": "display_data"
    }
   ],
   "source": [
    "plt.plot(xi1,b1,'ro')\n",
    "plt.ylabel('Angel')\n",
    "plt.show()"
   ]
  },
  {
   "cell_type": "code",
   "execution_count": null,
   "metadata": {},
   "outputs": [],
   "source": []
  }
 ],
 "metadata": {
  "environment": {
   "name": "tf2-gpu.2-1.m55",
   "type": "gcloud",
   "uri": "gcr.io/deeplearning-platform-release/tf2-gpu.2-1:m55"
  },
  "kernelspec": {
   "display_name": "Python 3",
   "language": "python",
   "name": "python3"
  },
  "language_info": {
   "codemirror_mode": {
    "name": "ipython",
    "version": 3
   },
   "file_extension": ".py",
   "mimetype": "text/x-python",
   "name": "python",
   "nbconvert_exporter": "python",
   "pygments_lexer": "ipython3",
   "version": "3.7.8"
  }
 },
 "nbformat": 4,
 "nbformat_minor": 4
}
