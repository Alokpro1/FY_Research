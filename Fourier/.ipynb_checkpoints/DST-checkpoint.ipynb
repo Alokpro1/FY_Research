{
 "cells": [
  {
   "cell_type": "code",
   "execution_count": 3,
   "metadata": {},
   "outputs": [],
   "source": [
    "# loading needed methods\n",
    "import warnings\n",
    "warnings.filterwarnings(\"ignore\")\n",
    "\n",
    "\n",
    "import pandas as pd\n",
    "import numpy as np\n",
    "import matplotlib.pyplot as plt\n",
    "%matplotlib inline\n",
    "import matplotlib.cm as cm\n",
    "\n",
    "from scipy.fft import fft, fftfreq, fftshift\n",
    "from random import seed,sample\n",
    "from sklearn.model_selection import train_test_split\n",
    "from sklearn.preprocessing import StandardScaler\n",
    "from sklearn.neural_network import MLPClassifier\n",
    "from sklearn.metrics import classification_report,confusion_matrix,accuracy_score, roc_curve, auc,\\\n",
    "precision_score\n",
    "import tensorflow.keras as keras\n",
    "from tensorflow.keras.callbacks import EarlyStopping, ModelCheckpoint, LearningRateScheduler\n",
    "\n"
   ]
  },
  {
   "cell_type": "code",
   "execution_count": 6,
   "metadata": {},
   "outputs": [],
   "source": [
    "dataset = pd.read_csv('../input/Fraud/backup.csv') # unchanged dataset1"
   ]
  },
  {
   "cell_type": "code",
   "execution_count": 7,
   "metadata": {},
   "outputs": [],
   "source": [
    "dataset = dataset.drop('Unnamed: 0', axis = 1)\n",
    "dataset = pd.get_dummies(dataset,prefix=['type'])"
   ]
  },
  {
   "cell_type": "code",
   "execution_count": 8,
   "metadata": {},
   "outputs": [
    {
     "data": {
      "text/plain": [
       "8213"
      ]
     },
     "execution_count": 8,
     "metadata": {},
     "output_type": "execute_result"
    }
   ],
   "source": [
    "len(dataset[dataset['isFraud']==1])"
   ]
  },
  {
   "cell_type": "code",
   "execution_count": 9,
   "metadata": {},
   "outputs": [],
   "source": [
    "X = dataset.drop(\"isFraud\",1)\n",
    "y = dataset.isFraud"
   ]
  },
  {
   "cell_type": "code",
   "execution_count": 14,
   "metadata": {},
   "outputs": [
    {
     "data": {
      "text/html": [
       "<div>\n",
       "<style scoped>\n",
       "    .dataframe tbody tr th:only-of-type {\n",
       "        vertical-align: middle;\n",
       "    }\n",
       "\n",
       "    .dataframe tbody tr th {\n",
       "        vertical-align: top;\n",
       "    }\n",
       "\n",
       "    .dataframe thead th {\n",
       "        text-align: right;\n",
       "    }\n",
       "</style>\n",
       "<table border=\"1\" class=\"dataframe\">\n",
       "  <thead>\n",
       "    <tr style=\"text-align: right;\">\n",
       "      <th></th>\n",
       "      <th>step</th>\n",
       "      <th>amount</th>\n",
       "      <th>oldbalanceOrg</th>\n",
       "      <th>newbalanceOrig</th>\n",
       "      <th>oldbalanceDest</th>\n",
       "      <th>newbalanceDest</th>\n",
       "      <th>errorBalanceOrg</th>\n",
       "      <th>errorBalanceDest</th>\n",
       "      <th>HourOfDay</th>\n",
       "      <th>type_CASH_OUT</th>\n",
       "      <th>type_TRANSFER</th>\n",
       "    </tr>\n",
       "  </thead>\n",
       "  <tbody>\n",
       "    <tr>\n",
       "      <th>0</th>\n",
       "      <td>1</td>\n",
       "      <td>181.00</td>\n",
       "      <td>181.00</td>\n",
       "      <td>0.0</td>\n",
       "      <td>0.00</td>\n",
       "      <td>0.00</td>\n",
       "      <td>0.00</td>\n",
       "      <td>1.810000e+02</td>\n",
       "      <td>1</td>\n",
       "      <td>0</td>\n",
       "      <td>1</td>\n",
       "    </tr>\n",
       "    <tr>\n",
       "      <th>1</th>\n",
       "      <td>1</td>\n",
       "      <td>181.00</td>\n",
       "      <td>181.00</td>\n",
       "      <td>0.0</td>\n",
       "      <td>21182.00</td>\n",
       "      <td>0.00</td>\n",
       "      <td>0.00</td>\n",
       "      <td>2.136300e+04</td>\n",
       "      <td>1</td>\n",
       "      <td>1</td>\n",
       "      <td>0</td>\n",
       "    </tr>\n",
       "    <tr>\n",
       "      <th>2</th>\n",
       "      <td>1</td>\n",
       "      <td>229133.94</td>\n",
       "      <td>15325.00</td>\n",
       "      <td>0.0</td>\n",
       "      <td>5083.00</td>\n",
       "      <td>51513.44</td>\n",
       "      <td>213808.94</td>\n",
       "      <td>1.827035e+05</td>\n",
       "      <td>1</td>\n",
       "      <td>1</td>\n",
       "      <td>0</td>\n",
       "    </tr>\n",
       "    <tr>\n",
       "      <th>3</th>\n",
       "      <td>1</td>\n",
       "      <td>215310.30</td>\n",
       "      <td>705.00</td>\n",
       "      <td>0.0</td>\n",
       "      <td>22425.00</td>\n",
       "      <td>0.00</td>\n",
       "      <td>214605.30</td>\n",
       "      <td>2.377353e+05</td>\n",
       "      <td>1</td>\n",
       "      <td>0</td>\n",
       "      <td>1</td>\n",
       "    </tr>\n",
       "    <tr>\n",
       "      <th>4</th>\n",
       "      <td>1</td>\n",
       "      <td>311685.89</td>\n",
       "      <td>10835.00</td>\n",
       "      <td>0.0</td>\n",
       "      <td>6267.00</td>\n",
       "      <td>2719172.89</td>\n",
       "      <td>300850.89</td>\n",
       "      <td>-2.401220e+06</td>\n",
       "      <td>1</td>\n",
       "      <td>0</td>\n",
       "      <td>1</td>\n",
       "    </tr>\n",
       "    <tr>\n",
       "      <th>...</th>\n",
       "      <td>...</td>\n",
       "      <td>...</td>\n",
       "      <td>...</td>\n",
       "      <td>...</td>\n",
       "      <td>...</td>\n",
       "      <td>...</td>\n",
       "      <td>...</td>\n",
       "      <td>...</td>\n",
       "      <td>...</td>\n",
       "      <td>...</td>\n",
       "      <td>...</td>\n",
       "    </tr>\n",
       "    <tr>\n",
       "      <th>2770404</th>\n",
       "      <td>743</td>\n",
       "      <td>339682.13</td>\n",
       "      <td>339682.13</td>\n",
       "      <td>0.0</td>\n",
       "      <td>0.00</td>\n",
       "      <td>339682.13</td>\n",
       "      <td>0.00</td>\n",
       "      <td>0.000000e+00</td>\n",
       "      <td>23</td>\n",
       "      <td>1</td>\n",
       "      <td>0</td>\n",
       "    </tr>\n",
       "    <tr>\n",
       "      <th>2770405</th>\n",
       "      <td>743</td>\n",
       "      <td>6311409.28</td>\n",
       "      <td>6311409.28</td>\n",
       "      <td>0.0</td>\n",
       "      <td>0.00</td>\n",
       "      <td>0.00</td>\n",
       "      <td>0.00</td>\n",
       "      <td>6.311409e+06</td>\n",
       "      <td>23</td>\n",
       "      <td>0</td>\n",
       "      <td>1</td>\n",
       "    </tr>\n",
       "    <tr>\n",
       "      <th>2770406</th>\n",
       "      <td>743</td>\n",
       "      <td>6311409.28</td>\n",
       "      <td>6311409.28</td>\n",
       "      <td>0.0</td>\n",
       "      <td>68488.84</td>\n",
       "      <td>6379898.11</td>\n",
       "      <td>0.00</td>\n",
       "      <td>1.000000e-02</td>\n",
       "      <td>23</td>\n",
       "      <td>1</td>\n",
       "      <td>0</td>\n",
       "    </tr>\n",
       "    <tr>\n",
       "      <th>2770407</th>\n",
       "      <td>743</td>\n",
       "      <td>850002.52</td>\n",
       "      <td>850002.52</td>\n",
       "      <td>0.0</td>\n",
       "      <td>0.00</td>\n",
       "      <td>0.00</td>\n",
       "      <td>0.00</td>\n",
       "      <td>8.500025e+05</td>\n",
       "      <td>23</td>\n",
       "      <td>0</td>\n",
       "      <td>1</td>\n",
       "    </tr>\n",
       "    <tr>\n",
       "      <th>2770408</th>\n",
       "      <td>743</td>\n",
       "      <td>850002.52</td>\n",
       "      <td>850002.52</td>\n",
       "      <td>0.0</td>\n",
       "      <td>6510099.11</td>\n",
       "      <td>7360101.63</td>\n",
       "      <td>0.00</td>\n",
       "      <td>9.313226e-10</td>\n",
       "      <td>23</td>\n",
       "      <td>1</td>\n",
       "      <td>0</td>\n",
       "    </tr>\n",
       "  </tbody>\n",
       "</table>\n",
       "<p>2770409 rows × 11 columns</p>\n",
       "</div>"
      ],
      "text/plain": [
       "         step      amount  oldbalanceOrg  newbalanceOrig  oldbalanceDest  \\\n",
       "0           1      181.00         181.00             0.0            0.00   \n",
       "1           1      181.00         181.00             0.0        21182.00   \n",
       "2           1   229133.94       15325.00             0.0         5083.00   \n",
       "3           1   215310.30         705.00             0.0        22425.00   \n",
       "4           1   311685.89       10835.00             0.0         6267.00   \n",
       "...       ...         ...            ...             ...             ...   \n",
       "2770404   743   339682.13      339682.13             0.0            0.00   \n",
       "2770405   743  6311409.28     6311409.28             0.0            0.00   \n",
       "2770406   743  6311409.28     6311409.28             0.0        68488.84   \n",
       "2770407   743   850002.52      850002.52             0.0            0.00   \n",
       "2770408   743   850002.52      850002.52             0.0      6510099.11   \n",
       "\n",
       "         newbalanceDest  errorBalanceOrg  errorBalanceDest  HourOfDay  \\\n",
       "0                  0.00             0.00      1.810000e+02          1   \n",
       "1                  0.00             0.00      2.136300e+04          1   \n",
       "2              51513.44        213808.94      1.827035e+05          1   \n",
       "3                  0.00        214605.30      2.377353e+05          1   \n",
       "4            2719172.89        300850.89     -2.401220e+06          1   \n",
       "...                 ...              ...               ...        ...   \n",
       "2770404       339682.13             0.00      0.000000e+00         23   \n",
       "2770405            0.00             0.00      6.311409e+06         23   \n",
       "2770406      6379898.11             0.00      1.000000e-02         23   \n",
       "2770407            0.00             0.00      8.500025e+05         23   \n",
       "2770408      7360101.63             0.00      9.313226e-10         23   \n",
       "\n",
       "         type_CASH_OUT  type_TRANSFER  \n",
       "0                    0              1  \n",
       "1                    1              0  \n",
       "2                    1              0  \n",
       "3                    0              1  \n",
       "4                    0              1  \n",
       "...                ...            ...  \n",
       "2770404              1              0  \n",
       "2770405              0              1  \n",
       "2770406              1              0  \n",
       "2770407              0              1  \n",
       "2770408              1              0  \n",
       "\n",
       "[2770409 rows x 11 columns]"
      ]
     },
     "execution_count": 14,
     "metadata": {},
     "output_type": "execute_result"
    }
   ],
   "source": []
  },
  {
   "cell_type": "code",
   "execution_count": 20,
   "metadata": {},
   "outputs": [],
   "source": [
    "yf = fft(X)"
   ]
  },
  {
   "cell_type": "code",
   "execution_count": 21,
   "metadata": {},
   "outputs": [],
   "source": [
    "yf=pd.DataFrame(np.abs(yf))\n",
    "yf['isFraud']=y"
   ]
  },
  {
   "cell_type": "code",
   "execution_count": 22,
   "metadata": {},
   "outputs": [],
   "source": [
    "yf.to_csv('Xfft.csv', encoding='utf-8', index = 'false')"
   ]
  },
  {
   "cell_type": "code",
   "execution_count": 16,
   "metadata": {},
   "outputs": [],
   "source": [
    "def preprocess_data(df):\n",
    "    class0_df = df[df['isFraud'] == 0] ## majority class, will be used for autoencoder training\n",
    "    class1_df = df[df['isFraud'] == 1]\n",
    "    ##\n",
    "    class0_arr = np.array(class0_df.drop('isFraud',axis = 1)) \n",
    "    class1_arr = np.array(class1_df.drop('isFraud',axis = 1))\n",
    "    X = class0_arr\n",
    "    X_train, X_test = train_test_split(X, test_size=0.1)\n",
    "    X_train, X_val = train_test_split(X_train, test_size=0.1)\n",
    "    \n",
    "    print(\"====><>>>>>\")\n",
    "    scaler = StandardScaler()\n",
    "    scaler.fit(X_train)\n",
    "    X_train = scaler.transform(X_train)\n",
    "    X_test = scaler.transform(X_test)\n",
    "    X_val = scaler.transform(X_val)\n",
    "    return X_train, X_val, X_test, class1_arr"
   ]
  },
  {
   "cell_type": "code",
   "execution_count": 23,
   "metadata": {},
   "outputs": [
    {
     "name": "stdout",
     "output_type": "stream",
     "text": [
      "====><>>>>>\n"
     ]
    }
   ],
   "source": [
    "X_train, X_val, X_test, class1_arr = preprocess_data(yf)\n",
    "n_features = X_train.shape[1]"
   ]
  },
  {
   "cell_type": "code",
   "execution_count": 24,
   "metadata": {},
   "outputs": [
    {
     "data": {
      "text/plain": [
       "11"
      ]
     },
     "execution_count": 24,
     "metadata": {},
     "output_type": "execute_result"
    }
   ],
   "source": [
    "n_features"
   ]
  },
  {
   "cell_type": "code",
   "execution_count": 25,
   "metadata": {},
   "outputs": [
    {
     "name": "stdout",
     "output_type": "stream",
     "text": [
      "Train Size: 2237378\n",
      "Val Size: 248598\n",
      "Test Size: 276220\n",
      "No of Features: 11\n"
     ]
    }
   ],
   "source": [
    "print(\"Train Size: {}\".format(len(X_train)))\n",
    "print(\"Val Size: {}\".format(len(X_val)))\n",
    "print(\"Test Size: {}\".format(len(X_test)))\n",
    "print(\"No of Features: {}\".format(n_features))"
   ]
  },
  {
   "cell_type": "code",
   "execution_count": 26,
   "metadata": {},
   "outputs": [
    {
     "data": {
      "text/plain": [
       "8213"
      ]
     },
     "execution_count": 26,
     "metadata": {},
     "output_type": "execute_result"
    }
   ],
   "source": [
    "len(class1_arr)"
   ]
  },
  {
   "cell_type": "code",
   "execution_count": 27,
   "metadata": {},
   "outputs": [],
   "source": [
    "# model archticeture\n",
    "\n",
    "def build_model():\n",
    "    model = keras.Sequential([\n",
    "        keras.Input(shape=(n_features,)),\n",
    "        keras.layers.Dense(64, activation='relu'),\n",
    "        keras.layers.BatchNormalization(),\n",
    "        \n",
    "        keras.layers.Dense(32, activation='relu'),\n",
    "        keras.layers.BatchNormalization(),\n",
    "        \n",
    "        keras.layers.Dense(16, activation='relu'),\n",
    "        keras.layers.BatchNormalization(),\n",
    "        \n",
    "        keras.layers.Dense(32, activation='relu'),\n",
    "        keras.layers.BatchNormalization(),\n",
    "        \n",
    "        keras.layers.Dense(64, activation='relu'),\n",
    "        keras.layers.BatchNormalization(),\n",
    "        \n",
    "        keras.layers.Dense(n_features)\n",
    "    ])\n",
    "    \n",
    "    return model"
   ]
  },
  {
   "cell_type": "code",
   "execution_count": 28,
   "metadata": {},
   "outputs": [],
   "source": [
    "# model building\n",
    "model = build_model()"
   ]
  },
  {
   "cell_type": "code",
   "execution_count": 29,
   "metadata": {},
   "outputs": [],
   "source": [
    "# model compile\n",
    "model.compile(optimizer=keras.optimizers.Adam(learning_rate=1e-3),\n",
    "              loss='mse', metrics=['accuracy'])"
   ]
  },
  {
   "cell_type": "code",
   "execution_count": null,
   "metadata": {},
   "outputs": [
    {
     "name": "stdout",
     "output_type": "stream",
     "text": [
      "Train on 2237378 samples, validate on 248598 samples\n",
      "Epoch 1/10\n",
      " 590336/2237378 [======>.......................] - ETA: 53s - loss: 0.1470 - accuracy: 0.2101"
     ]
    }
   ],
   "source": [
    "# callbacks defined\n",
    "\n",
    "# learning rate schedule\n",
    "def step_decay(epoch):\n",
    "    initial_lrate = 0.001\n",
    "    drop = 0.5\n",
    "    epochs_drop = 5\n",
    "    lrate = initial_lrate * (drop**((1 + epoch)/epochs_drop))\n",
    "    return lrate\n",
    "\n",
    "lrate_scheduler = LearningRateScheduler(step_decay)\n",
    "early_stop = EarlyStopping(monitor='val_loss', mode='min', verbose=1, patience=5)\n",
    "model_chkpoint = ModelCheckpoint('best_model.h5', monitor='val_loss', mode='min', verbose=1, save_best_only=True)\n",
    "\n",
    "# model fitting\n",
    "model.fit(X_train, X_train, batch_size=512, epochs=10, validation_data=(X_val, X_val), callbacks=[early_stop, model_chkpoint, lrate_scheduler])"
   ]
  },
  {
   "cell_type": "code",
   "execution_count": null,
   "metadata": {},
   "outputs": [],
   "source": [
    "def rel(y_test,y_pred):\n",
    "    predictionsRFR=np.array(y_pred,dtype='int') \n",
    "    CM_RFR = confusion_matrix(y_test,predictionsRFR)\n",
    "    CR_RFR = classification_report(y_test,predictionsRFR)\n",
    "    fprRFR, recallRFR, thresholdsRFR = roc_curve(y_test, predictionsRFR)\n",
    "    AUC_RFR = auc(fprRFR, recallRFR)\n",
    "    print(\"=============<>==================\\n\")\n",
    "    resultsRFR = {\"Confusion Matrix\":CM_RFR,\"Classification Report\":CR_RFR,\"Area Under Curve\":AUC_RFR}\n",
    "    for measure in resultsRFR:\n",
    "        print(measure,\": \\n\",resultsRFR[measure])\n",
    "    print(\"=============<>==================\\n\")"
   ]
  },
  {
   "cell_type": "code",
   "execution_count": null,
   "metadata": {},
   "outputs": [],
   "source": []
  }
 ],
 "metadata": {
  "environment": {
   "name": "tf2-gpu.2-1.m55",
   "type": "gcloud",
   "uri": "gcr.io/deeplearning-platform-release/tf2-gpu.2-1:m55"
  },
  "kernelspec": {
   "display_name": "Python 3",
   "language": "python",
   "name": "python3"
  },
  "language_info": {
   "codemirror_mode": {
    "name": "ipython",
    "version": 3
   },
   "file_extension": ".py",
   "mimetype": "text/x-python",
   "name": "python",
   "nbconvert_exporter": "python",
   "pygments_lexer": "ipython3",
   "version": "3.7.8"
  }
 },
 "nbformat": 4,
 "nbformat_minor": 4
}
