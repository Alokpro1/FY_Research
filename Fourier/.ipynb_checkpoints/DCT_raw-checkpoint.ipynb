{
 "cells": [
  {
   "cell_type": "code",
   "execution_count": 2,
   "metadata": {},
   "outputs": [],
   "source": [
    "# loading needed methods\n",
    "import warnings\n",
    "warnings.filterwarnings(\"ignore\")\n",
    "\n",
    "\n",
    "import pandas as pd\n",
    "import numpy as np\n",
    "import matplotlib.pyplot as plt\n",
    "%matplotlib inline\n",
    "import matplotlib.cm as cm\n",
    "\n",
    "from scipy.fft import fft,dst\n",
    "from random import seed,sample\n",
    "from sklearn.model_selection import train_test_split\n",
    "from sklearn.preprocessing import StandardScaler\n",
    "from sklearn.neural_network import MLPClassifier\n",
    "from sklearn.metrics import classification_report,confusion_matrix,accuracy_score, roc_curve, auc,\\\n",
    "precision_score\n",
    "import tensorflow.keras as keras\n",
    "from tensorflow.keras.callbacks import EarlyStopping, ModelCheckpoint, LearningRateScheduler\n",
    "\n"
   ]
  },
  {
   "cell_type": "code",
   "execution_count": 3,
   "metadata": {},
   "outputs": [],
   "source": [
    "dataset = pd.read_csv('../input/Fraud/Fourier/Xdct.csv') # unchanged dataset1"
   ]
  },
  {
   "cell_type": "code",
   "execution_count": 4,
   "metadata": {},
   "outputs": [
    {
     "data": {
      "text/html": [
       "<div>\n",
       "<style scoped>\n",
       "    .dataframe tbody tr th:only-of-type {\n",
       "        vertical-align: middle;\n",
       "    }\n",
       "\n",
       "    .dataframe tbody tr th {\n",
       "        vertical-align: top;\n",
       "    }\n",
       "\n",
       "    .dataframe thead th {\n",
       "        text-align: right;\n",
       "    }\n",
       "</style>\n",
       "<table border=\"1\" class=\"dataframe\">\n",
       "  <thead>\n",
       "    <tr style=\"text-align: right;\">\n",
       "      <th></th>\n",
       "      <th>Unnamed: 0</th>\n",
       "      <th>0</th>\n",
       "      <th>1</th>\n",
       "      <th>2</th>\n",
       "      <th>3</th>\n",
       "      <th>4</th>\n",
       "      <th>5</th>\n",
       "      <th>6</th>\n",
       "      <th>7</th>\n",
       "      <th>8</th>\n",
       "      <th>9</th>\n",
       "      <th>10</th>\n",
       "      <th>isFraud</th>\n",
       "    </tr>\n",
       "  </thead>\n",
       "  <tbody>\n",
       "    <tr>\n",
       "      <th>0</th>\n",
       "      <td>0</td>\n",
       "      <td>164.625194</td>\n",
       "      <td>86.483731</td>\n",
       "      <td>30.342710</td>\n",
       "      <td>56.641429</td>\n",
       "      <td>1.352690e+02</td>\n",
       "      <td>133.285984</td>\n",
       "      <td>2.255428e+01</td>\n",
       "      <td>113.097221</td>\n",
       "      <td>1.939625e+01</td>\n",
       "      <td>8.784747e+01</td>\n",
       "      <td>46.046120</td>\n",
       "      <td>1</td>\n",
       "    </tr>\n",
       "    <tr>\n",
       "      <th>1</th>\n",
       "      <td>1</td>\n",
       "      <td>12937.851796</td>\n",
       "      <td>2251.950586</td>\n",
       "      <td>11320.061661</td>\n",
       "      <td>2171.054501</td>\n",
       "      <td>2.298371e+03</td>\n",
       "      <td>6262.750496</td>\n",
       "      <td>9.928375e+03</td>\n",
       "      <td>15154.229502</td>\n",
       "      <td>7.220100e+03</td>\n",
       "      <td>1.318720e+04</td>\n",
       "      <td>1021.658848</td>\n",
       "      <td>1</td>\n",
       "    </tr>\n",
       "    <tr>\n",
       "      <th>2</th>\n",
       "      <td>2</td>\n",
       "      <td>210325.515876</td>\n",
       "      <td>26618.914212</td>\n",
       "      <td>67934.823322</td>\n",
       "      <td>168368.324313</td>\n",
       "      <td>1.045304e+04</td>\n",
       "      <td>168808.916008</td>\n",
       "      <td>1.884085e+04</td>\n",
       "      <td>72785.524578</td>\n",
       "      <td>1.384916e+05</td>\n",
       "      <td>4.462360e+04</td>\n",
       "      <td>34256.102953</td>\n",
       "      <td>0</td>\n",
       "    </tr>\n",
       "    <tr>\n",
       "      <th>3</th>\n",
       "      <td>3</td>\n",
       "      <td>208279.182502</td>\n",
       "      <td>5846.957706</td>\n",
       "      <td>66970.922707</td>\n",
       "      <td>187972.670282</td>\n",
       "      <td>3.775151e+04</td>\n",
       "      <td>159579.829275</td>\n",
       "      <td>3.428939e+04</td>\n",
       "      <td>92859.748498</td>\n",
       "      <td>1.684495e+05</td>\n",
       "      <td>2.118052e+04</td>\n",
       "      <td>26243.843419</td>\n",
       "      <td>0</td>\n",
       "    </tr>\n",
       "    <tr>\n",
       "      <th>4</th>\n",
       "      <td>4</td>\n",
       "      <td>285710.543066</td>\n",
       "      <td>642548.975294</td>\n",
       "      <td>756597.819911</td>\n",
       "      <td>883585.907603</td>\n",
       "      <td>1.861015e+06</td>\n",
       "      <td>88073.783888</td>\n",
       "      <td>2.236956e+06</td>\n",
       "      <td>757810.364395</td>\n",
       "      <td>1.095783e+06</td>\n",
       "      <td>1.095137e+06</td>\n",
       "      <td>224646.723809</td>\n",
       "      <td>0</td>\n",
       "    </tr>\n",
       "  </tbody>\n",
       "</table>\n",
       "</div>"
      ],
      "text/plain": [
       "   Unnamed: 0              0              1              2              3  \\\n",
       "0           0     164.625194      86.483731      30.342710      56.641429   \n",
       "1           1   12937.851796    2251.950586   11320.061661    2171.054501   \n",
       "2           2  210325.515876   26618.914212   67934.823322  168368.324313   \n",
       "3           3  208279.182502    5846.957706   66970.922707  187972.670282   \n",
       "4           4  285710.543066  642548.975294  756597.819911  883585.907603   \n",
       "\n",
       "              4              5             6              7             8  \\\n",
       "0  1.352690e+02     133.285984  2.255428e+01     113.097221  1.939625e+01   \n",
       "1  2.298371e+03    6262.750496  9.928375e+03   15154.229502  7.220100e+03   \n",
       "2  1.045304e+04  168808.916008  1.884085e+04   72785.524578  1.384916e+05   \n",
       "3  3.775151e+04  159579.829275  3.428939e+04   92859.748498  1.684495e+05   \n",
       "4  1.861015e+06   88073.783888  2.236956e+06  757810.364395  1.095783e+06   \n",
       "\n",
       "              9             10  isFraud  \n",
       "0  8.784747e+01      46.046120        1  \n",
       "1  1.318720e+04    1021.658848        1  \n",
       "2  4.462360e+04   34256.102953        0  \n",
       "3  2.118052e+04   26243.843419        0  \n",
       "4  1.095137e+06  224646.723809        0  "
      ]
     },
     "execution_count": 4,
     "metadata": {},
     "output_type": "execute_result"
    }
   ],
   "source": [
    "dataset.head()"
   ]
  },
  {
   "cell_type": "code",
   "execution_count": 5,
   "metadata": {},
   "outputs": [],
   "source": [
    "dataset = dataset.drop('Unnamed: 0', axis=1)"
   ]
  },
  {
   "cell_type": "code",
   "execution_count": 6,
   "metadata": {},
   "outputs": [],
   "source": [
    "X = dataset.drop(\"isFraud\",1)\n",
    "y = dataset.isFraud"
   ]
  },
  {
   "cell_type": "code",
   "execution_count": 7,
   "metadata": {},
   "outputs": [],
   "source": [
    "def getCosine(v1,v2):\n",
    "    rad = np.dot(v1,v2)/(np.linalg.norm(v1)*np.linalg.norm(v2))\n",
    "    return math.cos(rad)"
   ]
  },
  {
   "cell_type": "code",
   "execution_count": 9,
   "metadata": {},
   "outputs": [
    {
     "name": "stdout",
     "output_type": "stream",
     "text": [
      "[(0, 8213), (1, 8213)]\n"
     ]
    }
   ],
   "source": [
    "from imblearn.under_sampling import NearMiss\n",
    "from collections import Counter\n",
    "nm1 = NearMiss(version=1)\n",
    "X_resampled_nm1, y_resampled = nm1.fit_resample(X, y)\n",
    "print(sorted(Counter(y_resampled).items()))\n"
   ]
  },
  {
   "cell_type": "code",
   "execution_count": 18,
   "metadata": {},
   "outputs": [],
   "source": [
    "import math"
   ]
  },
  {
   "cell_type": "code",
   "execution_count": 10,
   "metadata": {},
   "outputs": [],
   "source": [
    "def cal_alpha(X):\n",
    "    sum_cos = 0\n",
    "    map_ang = []\n",
    "    for t1 in X:\n",
    "        ang = 0\n",
    "        for t2 in X:\n",
    "            cos = getCosine(t1,t2)\n",
    "            ang = ang + cos\n",
    "            \n",
    "        map_ang.append(ang/len(X))\n",
    "        sum_cos = sum_cos + ang/len(X)\n",
    "            \n",
    "    alpha = sum_cos/len(X)\n",
    "    \n",
    "    return alpha,map_ang"
   ]
  },
  {
   "cell_type": "code",
   "execution_count": 12,
   "metadata": {},
   "outputs": [],
   "source": [
    "RandomState = 42\n",
    "seed(21)\n",
    "\n",
    "X_train, X_test, y_train, y_test = train_test_split(X_resampled_nm1, y_resampled, test_size=0.2, random_state=42)\n",
    "scaler = StandardScaler()\n",
    "scaler.fit(X_train)\n",
    "X_train = scaler.transform(X_train)\n",
    "X_test = scaler.transform(X_test)"
   ]
  },
  {
   "cell_type": "code",
   "execution_count": 14,
   "metadata": {},
   "outputs": [],
   "source": [
    "X_0 = X_train[y_train==0]\n",
    "y_0 = y_train[y_train==0]"
   ]
  },
  {
   "cell_type": "code",
   "execution_count": 20,
   "metadata": {},
   "outputs": [],
   "source": [
    "a,b=cal_alpha(np.array(X_0))"
   ]
  },
  {
   "cell_type": "code",
   "execution_count": 26,
   "metadata": {},
   "outputs": [
    {
     "data": {
      "text/plain": [
       "6564"
      ]
     },
     "execution_count": 26,
     "metadata": {},
     "output_type": "execute_result"
    }
   ],
   "source": [
    "len(np.array(b))"
   ]
  },
  {
   "cell_type": "code",
   "execution_count": 25,
   "metadata": {},
   "outputs": [
    {
     "data": {
      "text/plain": [
       "0.5414602081748378"
      ]
     },
     "execution_count": 25,
     "metadata": {},
     "output_type": "execute_result"
    }
   ],
   "source": [
    "a"
   ]
  },
  {
   "cell_type": "code",
   "execution_count": 28,
   "metadata": {},
   "outputs": [],
   "source": [
    "xis=len(b)\n",
    "xi=np.arange(0,xis,1)"
   ]
  },
  {
   "cell_type": "code",
   "execution_count": 29,
   "metadata": {},
   "outputs": [
    {
     "data": {
      "text/plain": [
       "True"
      ]
     },
     "execution_count": 29,
     "metadata": {},
     "output_type": "execute_result"
    }
   ],
   "source": [
    "len(xi)==len(b)"
   ]
  },
  {
   "cell_type": "code",
   "execution_count": 30,
   "metadata": {},
   "outputs": [
    {
     "data": {
      "image/png": "[encoded data removed]",
      "text/plain": [
       "<Figure size 432x288 with 1 Axes>"
      ]
     },
     "metadata": {
      "needs_background": "light"
     },
     "output_type": "display_data"
    }
   ],
   "source": [
    "plt.plot(xi,b,'ro')\n",
    "plt.ylabel('Angel')\n",
    "plt.show()"
   ]
  },
  {
   "cell_type": "code",
   "execution_count": 35,
   "metadata": {},
   "outputs": [
    {
     "data": {
      "text/plain": [
       "1649"
      ]
     },
     "execution_count": 35,
     "metadata": {},
     "output_type": "execute_result"
    }
   ],
   "source": [
    "len(X_test[y_test==0])"
   ]
  },
  {
   "cell_type": "code",
   "execution_count": 42,
   "metadata": {},
   "outputs": [],
   "source": [
    "def fit(X_test,X_train,y_train,alpha):\n",
    "    y=[]\n",
    "    for t in X_test:\n",
    "        y.append(dct_eval(X_train,t,alpha))\n",
    "    return y"
   ]
  },
  {
   "cell_type": "code",
   "execution_count": 53,
   "metadata": {},
   "outputs": [],
   "source": [
    "def dct_eval(X_train,X,alpha):\n",
    "    cos=0\n",
    "    for T in X_train:\n",
    "        cos = cos + getCosine(X,T)\n",
    "    avg = cos/len(X_train)\n",
    "    if avg < alpha:\n",
    "        return 0\n",
    "    else:\n",
    "        return 1"
   ]
  },
  {
   "cell_type": "code",
   "execution_count": 56,
   "metadata": {},
   "outputs": [],
   "source": [
    "y_pred = fit(X_test,X_0,y_train,a)"
   ]
  },
  {
   "cell_type": "code",
   "execution_count": 47,
   "metadata": {},
   "outputs": [],
   "source": [
    "def rel(y_test,y_pred):\n",
    "    predictionsRFR=np.array(y_pred,dtype='int') \n",
    "    CM_RFR = confusion_matrix(y_test,predictionsRFR)\n",
    "    CR_RFR = classification_report(y_test,predictionsRFR)\n",
    "    fprRFR, recallRFR, thresholdsRFR = roc_curve(y_test, predictionsRFR)\n",
    "    AUC_RFR = auc(fprRFR, recallRFR)\n",
    "    print(\"=============<>==================\\n\")\n",
    "    resultsRFR = {\"Confusion Matrix\":CM_RFR,\"Classification Report\":CR_RFR,\"Area Under Curve\":AUC_RFR}\n",
    "    for measure in resultsRFR:\n",
    "        print(measure,\": \\n\",resultsRFR[measure])\n",
    "    print(\"=============<>==================\\n\")"
   ]
  },
  {
   "cell_type": "code",
   "execution_count": 57,
   "metadata": {},
   "outputs": [
    {
     "name": "stdout",
     "output_type": "stream",
     "text": [
      "=============<>==================\n",
      "\n",
      "Confusion Matrix : \n",
      " [[1446  203]\n",
      " [ 157 1480]]\n",
      "Classification Report : \n",
      "               precision    recall  f1-score   support\n",
      "\n",
      "           0       0.90      0.88      0.89      1649\n",
      "           1       0.88      0.90      0.89      1637\n",
      "\n",
      "    accuracy                           0.89      3286\n",
      "   macro avg       0.89      0.89      0.89      3286\n",
      "weighted avg       0.89      0.89      0.89      3286\n",
      "\n",
      "Area Under Curve : \n",
      " 0.8904939703557774\n",
      "=============<>==================\n",
      "\n"
     ]
    }
   ],
   "source": [
    "rel(y_test,y_pred)"
   ]
  },
  {
   "cell_type": "code",
   "execution_count": 49,
   "metadata": {},
   "outputs": [],
   "source": [
    "X_1 = X_train[y_train==1]\n",
    "y_1 = y_train[y_train==1]"
   ]
  },
  {
   "cell_type": "code",
   "execution_count": 50,
   "metadata": {},
   "outputs": [],
   "source": [
    "a1,b1=cal_alpha(np.array(X_1))"
   ]
  },
  {
   "cell_type": "code",
   "execution_count": 51,
   "metadata": {},
   "outputs": [],
   "source": [
    "xys=len(b1)\n",
    "xi1=np.arange(0,xys,1)"
   ]
  },
  {
   "cell_type": "code",
   "execution_count": 52,
   "metadata": {},
   "outputs": [
    {
     "data": {
      "image/png": "[encoded data removed]",
      "text/plain": [
       "<Figure size 432x288 with 1 Axes>"
      ]
     },
     "metadata": {
      "needs_background": "light"
     },
     "output_type": "display_data"
    }
   ],
   "source": [
    "plt.plot(xi1,b1,'ro')\n",
    "plt.ylabel('Angel')\n",
    "plt.show()"
   ]
  },
  {
   "cell_type": "code",
   "execution_count": null,
   "metadata": {},
   "outputs": [],
   "source": []
  }
 ],
 "metadata": {
  "environment": {
   "name": "tf2-gpu.2-1.m55",
   "type": "gcloud",
   "uri": "gcr.io/deeplearning-platform-release/tf2-gpu.2-1:m55"
  },
  "kernelspec": {
   "display_name": "Python 3",
   "language": "python",
   "name": "python3"
  },
  "language_info": {
   "codemirror_mode": {
    "name": "ipython",
    "version": 3
   },
   "file_extension": ".py",
   "mimetype": "text/x-python",
   "name": "python",
   "nbconvert_exporter": "python",
   "pygments_lexer": "ipython3",
   "version": "3.7.8"
  }
 },
 "nbformat": 4,
 "nbformat_minor": 4
}
